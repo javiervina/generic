{
 "cells": [
  {
   "cell_type": "code",
   "execution_count": 163,
   "metadata": {},
   "outputs": [],
   "source": [
    "import glob\n",
    "import numpy as np \n",
    "import pandas as pd \n",
    "import matplotlib.pyplot as plt\n",
    "\n",
    "list_of_files_orderbook = [f for f in glob.glob(\"*orderbook_1.csv\")]\n",
    "list_of_files_message = [f for f in glob.glob(\"*message_1.csv\")]\n",
    "n=len(list_of_files_message)\n",
    "\n",
    "##\n",
    "df_O = pd.read_csv(ORDERBOOK, header=None).iloc[:,0:4] #4*n where n is the depth I am interested in. For the moment, at the touch\n",
    "df_O.columns =[\"Ask_p\",\"Ask_v\",\"Bid_p\",\"Bid_v\"]\n",
    "df_M = pd.read_csv(MSGBOOK, header=None).iloc[:,0:6]\n",
    "df_M.columns =[\"Time\" , \"Type\" , \"OrderID\" , \"Size\" , \"Price\" , \"TradeDirection\" ]\n",
    "    \n",
    "df_O['Ask_p']/=100\n",
    "df_O['Bid_p']/=100\n",
    "df_M['Price']/=100"
   ]
  },
  {
   "cell_type": "code",
   "execution_count": 164,
   "metadata": {},
   "outputs": [
    {
     "data": {
      "text/plain": [
       "1"
      ]
     },
     "execution_count": 164,
     "metadata": {},
     "output_type": "execute_result"
    }
   ],
   "source": [
    "n"
   ]
  },
  {
   "cell_type": "code",
   "execution_count": 165,
   "metadata": {},
   "outputs": [
    {
     "data": {
      "text/plain": [
       "'FARO_2019-10-01_34200000_57600000_orderbook_1.csv'"
      ]
     },
     "execution_count": 165,
     "metadata": {},
     "output_type": "execute_result"
    }
   ],
   "source": [
    "ORDERBOOK"
   ]
  },
  {
   "cell_type": "code",
   "execution_count": 166,
   "metadata": {},
   "outputs": [],
   "source": [
    "x=df_M.loc[(df_M['Type']==5)|(df_M['Type']==4),]\n",
    "y=np.asarray(x)"
   ]
  },
  {
   "cell_type": "code",
   "execution_count": 135,
   "metadata": {},
   "outputs": [],
   "source": [
    "counts=x['Type'].value_counts(normalize=True)[5]"
   ]
  },
  {
   "cell_type": "code",
   "execution_count": 136,
   "metadata": {},
   "outputs": [
    {
     "data": {
      "text/plain": [
       "0.291497975708502"
      ]
     },
     "execution_count": 136,
     "metadata": {},
     "output_type": "execute_result"
    }
   ],
   "source": [
    "counts"
   ]
  },
  {
   "cell_type": "code",
   "execution_count": 167,
   "metadata": {},
   "outputs": [],
   "source": [
    "#[% trades, mean size, % size, %time (total orders)] x VI; [%trades, mean size, %size] x VI (hidden), % size and trades hidden (over total)\n",
    "    #mean (visible) ratio x VI,total size, G entrances, mean spread x VI, hidden halfspread x VI, lambdas x VI(sell and buy)\n",
    "\n",
    "    \n",
    "#we do not care if after hidden it is executed against visible\n",
    "    \n",
    "#histogram (mixing sides and VIs). INCLUDE IT IN THE LOOP\n",
    "\n",
    "k=1 #record G and lambdas\n",
    "k=0 #no\n",
    "\n",
    "Data = {}\n",
    "\n",
    "Data['Trades_b_b'] = np.zeros(n)\n",
    "Data['Trades_n_b'] = np.zeros(n)\n",
    "Data['Trades_s_b'] = np.zeros(n)\n",
    "Data['Trades_b_s'] = np.zeros(n)\n",
    "Data['Trades_n_s'] = np.zeros(n)\n",
    "Data['Trades_s_s'] = np.zeros(n)\n",
    "Data['Execution_b_b'] = np.zeros(n)\n",
    "Data['Execution_n_b'] = np.zeros(n)\n",
    "Data['Execution_s_b'] = np.zeros(n)\n",
    "Data['Execution_b_s'] = np.zeros(n)\n",
    "Data['Execution_n_s'] = np.zeros(n)\n",
    "Data['Execution_s_s'] = np.zeros(n)\n",
    "\n",
    "####\n",
    "Data['Execution_b_b_mean'] = np.zeros(n)\n",
    "Data['Execution_n_b_mean'] = np.zeros(n)\n",
    "Data['Execution_s_b_mean'] = np.zeros(n)\n",
    "Data['Execution_b_s_mean'] = np.zeros(n)\n",
    "Data['Execution_n_s_mean'] = np.zeros(n)\n",
    "Data['Execution_s_s_mean'] = np.zeros(n)\n",
    "####\n",
    "\n",
    "Data['Time_b'] = np.zeros(n)\n",
    "Data['Time_n'] = np.zeros(n)\n",
    "Data['Time_s'] = np.zeros(n)\n",
    "\n",
    "Data['Trades_b_b'] = np.zeros(n)\n",
    "Data['Trades_n_b'] = np.zeros(n)\n",
    "Data['Trades_s_b'] = np.zeros(n)\n",
    "Data['Trades_b_s'] = np.zeros(n)\n",
    "Data['Trades_n_s'] = np.zeros(n)\n",
    "Data['Trades_s_s'] = np.zeros(n)\n",
    "Data['Execution_b_b'] = np.zeros(n)\n",
    "Data['Execution_n_b'] = np.zeros(n)\n",
    "Data['Execution_s_b'] = np.zeros(n)\n",
    "Data['Execution_b_s'] = np.zeros(n)\n",
    "Data['Execution_n_s'] = np.zeros(n)\n",
    "Data['Execution_s_s'] = np.zeros(n)\n",
    "\n",
    "Data['Trades_b_b_hidden'] = np.zeros(n)\n",
    "Data['Trades_n_b_hidden'] = np.zeros(n)\n",
    "Data['Trades_s_b_hidden'] = np.zeros(n)\n",
    "Data['Trades_b_s_hidden'] = np.zeros(n)\n",
    "Data['Trades_n_s_hidden'] = np.zeros(n)\n",
    "Data['Trades_s_s_hidden'] = np.zeros(n)\n",
    "Data['Execution_b_b_hidden'] = np.zeros(n)\n",
    "Data['Execution_n_b_hidden'] = np.zeros(n)\n",
    "Data['Execution_s_b_hidden'] = np.zeros(n)\n",
    "Data['Execution_b_s_hidden'] = np.zeros(n)\n",
    "Data['Execution_n_s_hidden'] = np.zeros(n)\n",
    "Data['Execution_s_s_hidden'] = np.zeros(n)\n",
    "\n",
    "Data['Execution_b_b_mean_hidden'] = np.zeros(n)\n",
    "Data['Execution_n_b_mean_hidden'] = np.zeros(n)\n",
    "Data['Execution_s_b_mean_hidden'] = np.zeros(n)\n",
    "Data['Execution_b_s_mean_hidden'] = np.zeros(n)\n",
    "Data['Execution_n_s_mean_hidden'] = np.zeros(n)\n",
    "\n",
    "Data['Hidden_trades_b'] = np.zeros(n)\n",
    "Data['Hidden_trades_s'] = np.zeros(n)\n",
    "Data['Hidden_executed_b'] = np.zeros(n)\n",
    "Data['Hidden_executed_s'] = np.zeros(n)\n",
    "\n",
    "Data['Total executed'] = np.zeros(n)\n",
    "\n",
    "Data['Spread_b'] = np.zeros(n)\n",
    "Data['Spread_n'] = np.zeros(n)\n",
    "Data['Spread_s'] = np.zeros(n)\n",
    "#####\n",
    "#sum hidden trades; #percentage at the touch, #percentage one tick below\n",
    "\n",
    "\n",
    "Data['Hidden_hspread_b_b'] = np.zeros(n)\n",
    "Data['Hidden_hspread_n_b'] = np.zeros(n)\n",
    "Data['Hidden_hspread_s_b'] = np.zeros(n)\n",
    "Data['Hidden_hspread_b_s'] = np.zeros(n)\n",
    "Data['Hidden_hspread_n_s'] = np.zeros(n)\n",
    "Data['Hidden_hspread_s_s'] = np.zeros(n)\n",
    "######\n",
    "Data['ratio_b_b'] = np.zeros(n)\n",
    "Data['ratio_n_b'] = np.zeros(n)\n",
    "Data['ratio_s_b'] = np.zeros(n)\n",
    "Data['ratio_b_s'] = np.zeros(n)\n",
    "Data['ratio_n_s'] = np.zeros(n)\n",
    "Data['ratio_s_s'] = np.zeros(n)\n",
    "\n",
    "Data['onetick_b_b'] = np.zeros(n)\n",
    "Data['onetick_n_b'] = np.zeros(n)\n",
    "Data['onetick_s_b'] = np.zeros(n)\n",
    "Data['onetick_b_s'] = np.zeros(n)\n",
    "Data['onetick_n_s'] = np.zeros(n)\n",
    "Data['onetick_s_s'] = np.zeros(n)\n",
    "\n",
    "Data['halftick_b_b'] = np.zeros(n)\n",
    "Data['halftick_n_b'] = np.zeros(n)\n",
    "Data['halftick_s_b'] = np.zeros(n)\n",
    "Data['halftick_b_s'] = np.zeros(n)\n",
    "Data['halftick_n_s'] = np.zeros(n)\n",
    "Data['halftick_s_s'] = np.zeros(n)\n",
    "\n",
    "\n",
    "if k==1:\n",
    "    Data['lambda_b_b'] = np.zeros(n)\n",
    "    Data['lambda_n_b'] = np.zeros(n)\n",
    "    Data['lambda_s_b'] = np.zeros(n)\n",
    "    Data['lambda_b_s'] = np.zeros(n)\n",
    "    Data['lambda_n_s'] = np.zeros(n)\n",
    "    Data['lambda_s_s'] = np.zeros(n)\n",
    "\n",
    "    Data['G_bn'] = np.zeros(n)\n",
    "    Data['G_bs'] = np.zeros(n)\n",
    "    Data['G_nb'] = np.zeros(n)\n",
    "    Data['G_ns'] = np.zeros(n)\n",
    "    Data['G_sb'] = np.zeros(n)\n",
    "    Data['G_sn'] = np.zeros(n)\n",
    "    \n",
    "    \n",
    "Data=pd.DataFrame(Data)\n"
   ]
  },
  {
   "cell_type": "code",
   "execution_count": 170,
   "metadata": {},
   "outputs": [
    {
     "data": {
      "text/plain": [
       "0.0"
      ]
     },
     "execution_count": 170,
     "metadata": {},
     "output_type": "execute_result"
    }
   ],
   "source": [
    "Data.head()\n",
    "Data.loc[0]['Spread_b']"
   ]
  },
  {
   "cell_type": "code",
   "execution_count": 200,
   "metadata": {},
   "outputs": [
    {
     "data": {
      "text/plain": [
       "771    False\n",
       "772     True\n",
       "773     True\n",
       "774     True\n",
       "775    False\n",
       "       ...  \n",
       "966    False\n",
       "967    False\n",
       "968    False\n",
       "969    False\n",
       "970    False\n",
       "Length: 200, dtype: bool"
      ]
     },
     "execution_count": 200,
     "metadata": {},
     "output_type": "execute_result"
    }
   ],
   "source": [
    "df_M2=df_M.iloc[:200,]\n",
    "df_M2['Type']==3\n",
    "df_M2.head()\n",
    "time_MOs=df_M2.index[(df_M2['Type']==4 )| (df_M2['Type']==5)]\n",
    "\n",
    "\n",
    "time_MOs_buy_heavy=df_M2.index[(df_M2.loc[time_MOs,'Type']==4 ) & (df_M2['TradeDirection']==1)]\n",
    "d=(df_M2.loc[time_MOs,'Type']==4 ) & (df_M2['TradeDirection']==1)\n",
    "d\n",
    "df_M2.loc[d,]\n",
    "d"
   ]
  },
  {
   "cell_type": "code",
   "execution_count": null,
   "metadata": {},
   "outputs": [],
   "source": []
  },
  {
   "cell_type": "code",
   "execution_count": 155,
   "metadata": {},
   "outputs": [],
   "source": [
    "result['ratio']=result['Size']/result['Ask_v_bef']*(result['TradeDirection']==(-1))"
   ]
  },
  {
   "cell_type": "code",
   "execution_count": 156,
   "metadata": {},
   "outputs": [
    {
     "data": {
      "text/plain": [
       "772     0.000000\n",
       "774     0.000000\n",
       "775     0.333333\n",
       "776     1.000000\n",
       "777     0.020000\n",
       "          ...   \n",
       "6884    1.000000\n",
       "6885    1.000000\n",
       "6886    1.000000\n",
       "6887    1.000000\n",
       "6888    1.000000\n",
       "Name: ratio, Length: 6064, dtype: float64"
      ]
     },
     "execution_count": 156,
     "metadata": {},
     "output_type": "execute_result"
    }
   ],
   "source": [
    "result['ratio'].apply(lambda x: min(x,1))"
   ]
  },
  {
   "cell_type": "code",
   "execution_count": 153,
   "metadata": {},
   "outputs": [
    {
     "data": {
      "text/html": [
       "<div>\n",
       "<style scoped>\n",
       "    .dataframe tbody tr th:only-of-type {\n",
       "        vertical-align: middle;\n",
       "    }\n",
       "\n",
       "    .dataframe tbody tr th {\n",
       "        vertical-align: top;\n",
       "    }\n",
       "\n",
       "    .dataframe thead th {\n",
       "        text-align: right;\n",
       "    }\n",
       "</style>\n",
       "<table border=\"1\" class=\"dataframe\">\n",
       "  <thead>\n",
       "    <tr style=\"text-align: right;\">\n",
       "      <th></th>\n",
       "      <th>Ask_p</th>\n",
       "      <th>Ask_v</th>\n",
       "      <th>Bid_p</th>\n",
       "      <th>Bid_v</th>\n",
       "      <th>VI</th>\n",
       "      <th>Spread</th>\n",
       "      <th>Time</th>\n",
       "      <th>Type</th>\n",
       "      <th>OrderID</th>\n",
       "      <th>Size</th>\n",
       "      <th>...</th>\n",
       "      <th>Next</th>\n",
       "      <th>VI_bef</th>\n",
       "      <th>Bid_v_bef</th>\n",
       "      <th>Ask_v_bef</th>\n",
       "      <th>Bid_p_bef</th>\n",
       "      <th>Ask_p_bef</th>\n",
       "      <th>mid_bef</th>\n",
       "      <th>hidden_spread</th>\n",
       "      <th>weighted_spread</th>\n",
       "      <th>ratio</th>\n",
       "    </tr>\n",
       "  </thead>\n",
       "  <tbody>\n",
       "    <tr>\n",
       "      <th>6884</th>\n",
       "      <td>4760.0</td>\n",
       "      <td>100</td>\n",
       "      <td>4712.0</td>\n",
       "      <td>6</td>\n",
       "      <td>-1</td>\n",
       "      <td>24.0</td>\n",
       "      <td>52198.147887</td>\n",
       "      <td>1</td>\n",
       "      <td>293258030</td>\n",
       "      <td>100</td>\n",
       "      <td>...</td>\n",
       "      <td>0.000821</td>\n",
       "      <td>-1</td>\n",
       "      <td>6</td>\n",
       "      <td>100</td>\n",
       "      <td>4712.0</td>\n",
       "      <td>4761.0</td>\n",
       "      <td>24.5</td>\n",
       "      <td>0.0</td>\n",
       "      <td>0.019695</td>\n",
       "      <td>1.0</td>\n",
       "    </tr>\n",
       "    <tr>\n",
       "      <th>6885</th>\n",
       "      <td>4763.0</td>\n",
       "      <td>100</td>\n",
       "      <td>4712.0</td>\n",
       "      <td>6</td>\n",
       "      <td>-1</td>\n",
       "      <td>25.5</td>\n",
       "      <td>52198.148708</td>\n",
       "      <td>3</td>\n",
       "      <td>293258030</td>\n",
       "      <td>100</td>\n",
       "      <td>...</td>\n",
       "      <td>0.002050</td>\n",
       "      <td>-1</td>\n",
       "      <td>6</td>\n",
       "      <td>100</td>\n",
       "      <td>4712.0</td>\n",
       "      <td>4760.0</td>\n",
       "      <td>24.0</td>\n",
       "      <td>0.0</td>\n",
       "      <td>0.052287</td>\n",
       "      <td>1.0</td>\n",
       "    </tr>\n",
       "    <tr>\n",
       "      <th>6886</th>\n",
       "      <td>4762.0</td>\n",
       "      <td>100</td>\n",
       "      <td>4712.0</td>\n",
       "      <td>6</td>\n",
       "      <td>-1</td>\n",
       "      <td>25.0</td>\n",
       "      <td>52198.150758</td>\n",
       "      <td>1</td>\n",
       "      <td>293258062</td>\n",
       "      <td>100</td>\n",
       "      <td>...</td>\n",
       "      <td>1.110261</td>\n",
       "      <td>-1</td>\n",
       "      <td>6</td>\n",
       "      <td>100</td>\n",
       "      <td>4712.0</td>\n",
       "      <td>4763.0</td>\n",
       "      <td>25.5</td>\n",
       "      <td>0.0</td>\n",
       "      <td>27.756516</td>\n",
       "      <td>1.0</td>\n",
       "    </tr>\n",
       "    <tr>\n",
       "      <th>6887</th>\n",
       "      <td>4761.0</td>\n",
       "      <td>100</td>\n",
       "      <td>4712.0</td>\n",
       "      <td>6</td>\n",
       "      <td>-1</td>\n",
       "      <td>24.5</td>\n",
       "      <td>52199.261019</td>\n",
       "      <td>1</td>\n",
       "      <td>293274822</td>\n",
       "      <td>100</td>\n",
       "      <td>...</td>\n",
       "      <td>0.000304</td>\n",
       "      <td>-1</td>\n",
       "      <td>6</td>\n",
       "      <td>100</td>\n",
       "      <td>4712.0</td>\n",
       "      <td>4762.0</td>\n",
       "      <td>25.0</td>\n",
       "      <td>0.0</td>\n",
       "      <td>0.007449</td>\n",
       "      <td>1.0</td>\n",
       "    </tr>\n",
       "    <tr>\n",
       "      <th>6888</th>\n",
       "      <td>4728.0</td>\n",
       "      <td>100</td>\n",
       "      <td>4712.0</td>\n",
       "      <td>6</td>\n",
       "      <td>-1</td>\n",
       "      <td>8.0</td>\n",
       "      <td>52199.261323</td>\n",
       "      <td>1</td>\n",
       "      <td>293274826</td>\n",
       "      <td>100</td>\n",
       "      <td>...</td>\n",
       "      <td>0.001217</td>\n",
       "      <td>-1</td>\n",
       "      <td>6</td>\n",
       "      <td>100</td>\n",
       "      <td>4712.0</td>\n",
       "      <td>4761.0</td>\n",
       "      <td>24.5</td>\n",
       "      <td>0.0</td>\n",
       "      <td>0.009740</td>\n",
       "      <td>1.0</td>\n",
       "    </tr>\n",
       "  </tbody>\n",
       "</table>\n",
       "<p>5 rows × 22 columns</p>\n",
       "</div>"
      ],
      "text/plain": [
       "       Ask_p  Ask_v   Bid_p  Bid_v  VI  Spread          Time  Type    OrderID  \\\n",
       "6884  4760.0    100  4712.0      6  -1    24.0  52198.147887     1  293258030   \n",
       "6885  4763.0    100  4712.0      6  -1    25.5  52198.148708     3  293258030   \n",
       "6886  4762.0    100  4712.0      6  -1    25.0  52198.150758     1  293258062   \n",
       "6887  4761.0    100  4712.0      6  -1    24.5  52199.261019     1  293274822   \n",
       "6888  4728.0    100  4712.0      6  -1     8.0  52199.261323     1  293274826   \n",
       "\n",
       "      Size  ...      Next  VI_bef  Bid_v_bef  Ask_v_bef  Bid_p_bef  Ask_p_bef  \\\n",
       "6884   100  ...  0.000821      -1          6        100     4712.0     4761.0   \n",
       "6885   100  ...  0.002050      -1          6        100     4712.0     4760.0   \n",
       "6886   100  ...  1.110261      -1          6        100     4712.0     4763.0   \n",
       "6887   100  ...  0.000304      -1          6        100     4712.0     4762.0   \n",
       "6888   100  ...  0.001217      -1          6        100     4712.0     4761.0   \n",
       "\n",
       "      mid_bef  hidden_spread  weighted_spread  ratio  \n",
       "6884     24.5            0.0         0.019695    1.0  \n",
       "6885     24.0            0.0         0.052287    1.0  \n",
       "6886     25.5            0.0        27.756516    1.0  \n",
       "6887     25.0            0.0         0.007449    1.0  \n",
       "6888     24.5            0.0         0.009740    1.0  \n",
       "\n",
       "[5 rows x 22 columns]"
      ]
     },
     "execution_count": 153,
     "metadata": {},
     "output_type": "execute_result"
    }
   ],
   "source": [
    "result.tail()"
   ]
  },
  {
   "cell_type": "code",
   "execution_count": null,
   "metadata": {},
   "outputs": [],
   "source": []
  },
  {
   "cell_type": "code",
   "execution_count": 224,
   "metadata": {},
   "outputs": [
    {
     "ename": "NameError",
     "evalue": "name 'mean' is not defined",
     "output_type": "error",
     "traceback": [
      "\u001b[1;31m---------------------------------------------------------------------------\u001b[0m",
      "\u001b[1;31mNameError\u001b[0m                                 Traceback (most recent call last)",
      "\u001b[1;32m<ipython-input-224-908eff3ef944>\u001b[0m in \u001b[0;36m<module>\u001b[1;34m\u001b[0m\n\u001b[0;32m    105\u001b[0m \u001b[1;33m\u001b[0m\u001b[0m\n\u001b[0;32m    106\u001b[0m     \u001b[1;31m#proxy hidden\u001b[0m\u001b[1;33m\u001b[0m\u001b[1;33m\u001b[0m\u001b[1;33m\u001b[0m\u001b[0m\n\u001b[1;32m--> 107\u001b[1;33m     \u001b[0mData\u001b[0m\u001b[1;33m.\u001b[0m\u001b[0mloc\u001b[0m\u001b[1;33m[\u001b[0m\u001b[0mi\u001b[0m\u001b[1;33m,\u001b[0m\u001b[1;34m'Hidden_hspread_b_b'\u001b[0m\u001b[1;33m]\u001b[0m \u001b[1;33m=\u001b[0m \u001b[0mmean\u001b[0m\u001b[1;33m(\u001b[0m\u001b[0mresult\u001b[0m\u001b[1;33m.\u001b[0m\u001b[0mloc\u001b[0m\u001b[1;33m[\u001b[0m\u001b[1;33m(\u001b[0m\u001b[0mresult\u001b[0m\u001b[1;33m[\u001b[0m\u001b[1;34m'TradeDirection'\u001b[0m\u001b[1;33m]\u001b[0m\u001b[1;33m==\u001b[0m\u001b[1;36m1\u001b[0m\u001b[1;33m)\u001b[0m \u001b[1;33m&\u001b[0m \u001b[1;33m(\u001b[0m\u001b[0mbuy_heavy\u001b[0m \u001b[1;33m&\u001b[0m \u001b[0mhidden\u001b[0m\u001b[1;33m)\u001b[0m\u001b[1;33m,\u001b[0m\u001b[1;34m'hidden_spread'\u001b[0m\u001b[1;33m]\u001b[0m\u001b[1;33m)\u001b[0m\u001b[1;33m\u001b[0m\u001b[1;33m\u001b[0m\u001b[0m\n\u001b[0m\u001b[0;32m    108\u001b[0m     \u001b[0mData\u001b[0m\u001b[1;33m.\u001b[0m\u001b[0mloc\u001b[0m\u001b[1;33m[\u001b[0m\u001b[0mi\u001b[0m\u001b[1;33m,\u001b[0m\u001b[1;34m'Hidden_hspread_n_b'\u001b[0m\u001b[1;33m]\u001b[0m \u001b[1;33m=\u001b[0m \u001b[0mmean\u001b[0m\u001b[1;33m(\u001b[0m\u001b[0mresult\u001b[0m\u001b[1;33m.\u001b[0m\u001b[0mloc\u001b[0m\u001b[1;33m[\u001b[0m\u001b[1;33m(\u001b[0m\u001b[0mresult\u001b[0m\u001b[1;33m[\u001b[0m\u001b[1;34m'TradeDirection'\u001b[0m\u001b[1;33m]\u001b[0m\u001b[1;33m==\u001b[0m\u001b[1;36m1\u001b[0m\u001b[1;33m)\u001b[0m \u001b[1;33m&\u001b[0m \u001b[1;33m(\u001b[0m\u001b[0mneutral\u001b[0m \u001b[1;33m&\u001b[0m \u001b[0mhidden\u001b[0m\u001b[1;33m)\u001b[0m\u001b[1;33m,\u001b[0m\u001b[1;34m'hidden_spread'\u001b[0m\u001b[1;33m]\u001b[0m\u001b[1;33m)\u001b[0m\u001b[1;33m\u001b[0m\u001b[1;33m\u001b[0m\u001b[0m\n\u001b[0;32m    109\u001b[0m     \u001b[0mData\u001b[0m\u001b[1;33m.\u001b[0m\u001b[0mloc\u001b[0m\u001b[1;33m[\u001b[0m\u001b[0mi\u001b[0m\u001b[1;33m,\u001b[0m\u001b[1;34m'Hidden_hspread_s_b'\u001b[0m\u001b[1;33m]\u001b[0m \u001b[1;33m=\u001b[0m \u001b[0mmean\u001b[0m\u001b[1;33m(\u001b[0m\u001b[0mresult\u001b[0m\u001b[1;33m.\u001b[0m\u001b[0mloc\u001b[0m\u001b[1;33m[\u001b[0m\u001b[1;33m(\u001b[0m\u001b[0mresult\u001b[0m\u001b[1;33m[\u001b[0m\u001b[1;34m'TradeDirection'\u001b[0m\u001b[1;33m]\u001b[0m\u001b[1;33m==\u001b[0m\u001b[1;36m1\u001b[0m\u001b[1;33m)\u001b[0m \u001b[1;33m&\u001b[0m \u001b[1;33m(\u001b[0m\u001b[0msell_heavy\u001b[0m \u001b[1;33m&\u001b[0m \u001b[0mhidden\u001b[0m\u001b[1;33m)\u001b[0m\u001b[1;33m,\u001b[0m\u001b[1;34m'hidden_spread'\u001b[0m\u001b[1;33m]\u001b[0m\u001b[1;33m)\u001b[0m\u001b[1;33m\u001b[0m\u001b[1;33m\u001b[0m\u001b[0m\n",
      "\u001b[1;31mNameError\u001b[0m: name 'mean' is not defined"
     ]
    }
   ],
   "source": [
    "startTrad   = 11*60*60     # 11:00:00.000 in ms after midnight\n",
    "endTrad     = 14.5*60*60   # 14:30:00.000 in ms after midnight\n",
    "anomalies=0\n",
    "##\n",
    "for j in range(len(list_of_files_orderbook)):\n",
    "    \n",
    "    ORDERBOOK=list_of_files_orderbook[j]\n",
    "    MSGBOOK=list_of_files_message[j]\n",
    "    \n",
    "    df_O = pd.read_csv(ORDERBOOK, header=None).iloc[:,0:4] \n",
    "    df_O.columns =[\"Ask_p\",\"Ask_v\",\"Bid_p\",\"Bid_v\"]\n",
    "    df_M = pd.read_csv(MSGBOOK, header=None).iloc[:,0:6]\n",
    "    df_M.columns =[\"Time\" , \"Type\" , \"OrderID\" , \"Size\" , \"Price\" , \"TradeDirection\" ]\n",
    "    df_O=df_O.loc[(df_M['Time']>=startTrad) & (df_M['Time']<=endTrad),] #remove first and last 90 minutes\n",
    "    df_M=df_M.loc[(df_M['Time']>=startTrad) & (df_M['Time']<=endTrad),] #remove first and last 90 minutes\n",
    "    df_O['Ask_p']/=100\n",
    "    df_O['Bid_p']/=100\n",
    "    df_M['Price']/=100\n",
    "    # if (sum(df_M['Type']==7)==0):\n",
    "\n",
    "    df_M['Next']=df_M['Time'].diff().shift(-1) #I miss last element\n",
    "    VI=np.asarray((df_O['Bid_v']-df_O['Ask_v'])/(df_O['Bid_v']+df_O['Ask_v']))\n",
    "    VI=1*(VI>=(1/3))-1*(VI<=(-1/3))\n",
    "    \n",
    "    df_O['VI']=VI\n",
    "    df_O['Spread']=(df_O['Ask_p']-df_O['Bid_p'])/2 #HALFSPREAD, NOT SPREAD\n",
    "    \n",
    "    VI_bef=np.asarray((df_O['Bid_v']-df_O['Ask_v'])/(df_O['Bid_v']+df_O['Ask_v']))[:-2] #paste directly\n",
    "    VI_bef=1*(VI_bef>=(1/3))-1*(VI_bef<=(-1/3))\n",
    "    \n",
    "    m = len(df_O)-2\n",
    "    \n",
    "    Bid_v_bef=np.array(df_O.iloc[:m]['Bid_v'])\n",
    "    Ask_v_bef=np.array(df_O.iloc[:m]['Ask_v'])\n",
    "    Bid_p_bef=np.array(df_O.iloc[:m]['Bid_p'])\n",
    "    Ask_p_bef=np.array(df_O.iloc[:m]['Ask_p'])\n",
    "\n",
    "    result=pd.concat([df_O, df_M], axis=1, sort=False)\n",
    "    result=result.drop(result.index[0]);     result=result.drop(result.index[-1])\n",
    "    result['VI_bef']=VI_bef\n",
    "    result['Bid_v_bef']=Bid_v_bef\n",
    "    result['Ask_v_bef']=Ask_v_bef\n",
    "    result['Bid_p_bef']=Bid_p_bef\n",
    "    result['Ask_p_bef']=Ask_p_bef    \n",
    "    result['mid_bef']=(result['Ask_p_bef']-result['Bid_p_bef'])/2\n",
    "    result['hidden_spread']=(result['Price']-result['Bid_p_bef'])*(result['TradeDirection']==1)\n",
    "    -(result['Price']-result['Ask_p_bef'])*(result['TradeDirection']==(-1))\n",
    "    result['weighted_spread']=result['Spread']*result['Next']\n",
    "    \n",
    "    ##################\n",
    "    time_MOs=result.index[(result['Type']==4 )| (result['Type']==5)]\n",
    "\n",
    "    prev_index=time_MOs[0]\n",
    "    prev_time=result.loc[prev_index,'Time']\n",
    "    for i in time_MOs[1:]:\n",
    "        current_time=result.loc[i,'Time']\n",
    "        if (current_time==prev_time):\n",
    "            result.loc[prev_index,'Size']+=result.loc[i,'Size']\n",
    "            #result['walk']+= 1*(result.loc[prev_index,'Price']!=result.loc[prev_index,'Price'])\n",
    "            result=result.drop(i)\n",
    "        else:\n",
    "            prev_index=i\n",
    "            prev_time=current_time\n",
    "    \n",
    "    result['ratio']=result['Size']/result['Bid_v_bef']*(result['TradeDirection']==1)\n",
    "    +result['Size']/result['Ask_v_bef']*(result['TradeDirection']==(-1)) \n",
    "    result['ratio']=result['ratio'].apply(lambda x: min(x,1)) #not allowed ratio bigger than 1 \n",
    "    #updating time_MOs after gluing\n",
    "    time_MOs=(result['Type']==4 ) | (result['Type']==5)\n",
    "    hidden=result['Type']==5\n",
    "    ################################################\n",
    "    \n",
    "    #summarising dayly information\n",
    "    buy_heavy=result['VI']==1\n",
    "    neutral=result['VI']==0\n",
    "    sell_heavy=result['VI']==(-1)\n",
    "    buy_heavy_bef=result['VI_bef']==1\n",
    "    neutral_bef=result['VI_bef']==0\n",
    "    sell_heavy_bef=result['VI_bef']==(-1)\n",
    "    \n",
    "    #Table 1\n",
    "    \n",
    "\n",
    "    \n",
    "    \n",
    "    #Trades\n",
    "    \n",
    "    total=sum(time_MOs) #len or sum \n",
    "    result.loc[i,'Time_b'] = sum((time_MOs & (result['TradeDirection']==1)))/total\n",
    "    result.loc[i,'Time_b'] = sum((time_MOs & (result['TradeDirection']==(-1))))/total\n",
    "                                 \n",
    "    #executions\n",
    "    total=sum(result.loc[time_MOs,'Size']) \n",
    "    result.loc[i,'Time_b'] = sum(result.loc[time_MOs & (result['TradeDirection']==1),'Size'])/total\n",
    "    result.loc[i,'Time_b'] = sum(result.loc[time_MOs & (result['TradeDirection']==(-1)),'Size'])/total\n",
    "    \n",
    "    \n",
    "    #Table 2\n",
    "                                \n",
    "    #halfspread\n",
    "    total_time=sum(result['Next'])\n",
    "    Data.loc[j,'Spread_b'] = sum(result.loc[buy_heavy,'weighted_spread'])/total_time\n",
    "    Data.loc[j,'Spread_n'] = sum(result.loc[neutral,'weighted_spread'])/total_time\n",
    "    Data.loc[j,'Spread_s'] = sum(result.loc[sell_heavy,'weighted_spread'])/total_time\n",
    "                                 \n",
    "    #proxy hidden \n",
    "    Data.loc[i,'Hidden_hspread_b_b'] = mean(result.loc[(result['TradeDirection']==1) & (buy_heavy & hidden),'hidden_spread'])\n",
    "    Data.loc[i,'Hidden_hspread_n_b'] = mean(result.loc[(result['TradeDirection']==1) & (neutral & hidden),'hidden_spread'])\n",
    "    Data.loc[i,'Hidden_hspread_s_b'] = mean(result.loc[(result['TradeDirection']==1) & (sell_heavy & hidden),'hidden_spread'])\n",
    "    Data.loc[i,'Hidden_hspread_b_s'] = mean(result.loc[(result['TradeDirection']==(-1)) & (buy_heavy & hidden),'hidden_spread'])\n",
    "    Data.loc[i,'Hidden_hspread_n_s'] = mean(result.loc[(result['TradeDirection']==(-1)) & (neutral & hidden),'hidden_spread'])\n",
    "    Data.loc[i,'Hidden_hspread_s_s'] = mean(result.loc[(result['TradeDirection']==(-1)) & (sell_heavy & hidden),'hidden_spread'])                             \n",
    "    \n",
    "    #Table 3\n",
    "\n",
    "    #Times\n",
    "    Data.loc[i,'Time_b'] = sum(result.loc[buy_heavy,'Next'])/total_time\n",
    "    Data.loc[i,'Time_n'] = sum(result.loc[neutral,'Next'])/total_time\n",
    "    Data.loc[i,'Time_s'] = sum(result.loc[sell_heavy,'Next'])/total_time\n",
    "    \n",
    "    Trades_buy = time_MOs & (result['TradeDirection']==1)\n",
    "    Trades_sell = time_MOs & (result['TradeDirection']==(-1))\n",
    "    Trades_buy_sum = sum(Trades_buy)\n",
    "    Trades_sell_sum = sum(Trades_sell)\n",
    "    Trades_b_b = Trades_buy & buy_heavy\n",
    "    Trades_n_b = Trades_buy & neutral_heavy\n",
    "    Trades_s_b = Trades_buy & sell_heavy\n",
    "    Trades_b_s = Trades_sell & buy_heavy\n",
    "    Trades_n_s = Trades_sell & neutral\n",
    "    Trades_s_s = Trades_sell & sell_heavy\n",
    "  \n",
    "    Ex_b_b = sum(result.loc[Trades_b_b,'Size'])\n",
    "    Ex_n_b = sum(result.loc[Trades_n_b,'Size'])\n",
    "    Ex_s_b = sum(result.loc[Trades_s_b,'Size'])\n",
    "    Ex_b_s = sum(result.loc[Trades_b_s,'Size'])\n",
    "    Ex_n_s = sum(result.loc[Trades_n_s,'Size'])\n",
    "    Ex_s_s = sum(result.loc[Trades_s_s,'Size'])\n",
    "    Ex_b = Ex_b_b + Ex_n_b + Ex_s_b\n",
    "    Ex_s = Ex_b_s + Ex_n_s + Ex_s_s\n",
    "    \n",
    "    #proportion of total trades in each VI    \n",
    "    Data.loc[i,'Trades_b_b'] = sum(Trades_b_b)/Trades_buy_sum\n",
    "    Data.loc[i,'Trades_n_b'] = sum(Trades_n_b)/Trades_buy_sum\n",
    "    Data.loc[i,'Trades_s_b'] = sum(Trades_s_b)/Trades_buy_sum\n",
    "    Data.loc[i,'Trades_b_s'] = sum(Trades_b_s)/Trades_sell_sum\n",
    "    Data.loc[i,'Trades_n_s'] = sum(Trades_n_s)/Trades_sell_sum\n",
    "    Data.loc[i,'Trades_s_s'] = sum(Trades_s_s)/Trades_sell_sum\n",
    "\n",
    "    #proportion of volume executed in each VI\n",
    "    Data.loc[i,'Execution_b_b'] = Ex_b_b/Ex_b\n",
    "    Data.loc[i,'Execution_n_b'] = Ex_n_b/Ex_b\n",
    "    Data.loc[i,'Execution_s_b'] = Ex_s_b/Ex_b\n",
    "    Data.loc[i,'Execution_b_s'] = Ex_b_s/Ex_s\n",
    "    Data.loc[i,'Execution_n_s'] = Ex_n_s/Ex_s\n",
    "    Data.loc[i,'Execution_s_s'] = Ex_s_s/Ex_s                          \n",
    "    \n",
    "    #Table 4\n",
    "     \n",
    "    #percentage of  sell/buy  MOs  against  hidden  orders \n",
    "   \n",
    "    #proportion of total trades in each VI    \n",
    "    Data.loc[i,'Trades_b_b_hidden'] = sum(Trades_b_b & hidden)/sum(Trades_b_b)\n",
    "    Data.loc[i,'Trades_n_b_hidden'] = sum(Trades_n_b & hidden)/sum(Trades_n_b)\n",
    "    Data.loc[i,'Trades_s_b_hidden'] = sum(Trades_s_b & hidden)/sum(Trades_s_b)\n",
    "    Data.loc[i,'Trades_b_s_hidden'] = sum(Trades_b_s & hidden)/sum(Trades_b_s)\n",
    "    Data.loc[i,'Trades_n_s_hidden'] = sum(Trades_n_s & hidden)/sum(Trades_n_s)\n",
    "    Data.loc[i,'Trades_s_s_hidden'] = sum(Trades_s_s & hidden)/sum(Trades_s_s)\n",
    "\n",
    "    #proportion of volume executed in each VI\n",
    "    Data.loc[i,'Execution_b_b_hidden'] = sum(result.loc[Trades_b_b & hidden,'Size'])/Ex_b_b\n",
    "    Data.loc[i,'Execution_n_b_hidden'] = sum(result.loc[Trades_n_b & hidden,'Size'])/Ex_n_b\n",
    "    Data.loc[i,'Execution_s_b_hidden'] = sum(result.loc[Trades_s_b & hidden,'Size'])/Ex_s_b\n",
    "    Data.loc[i,'Execution_b_s_hidden'] = sum(result.loc[Trades_b_s & hidden,'Size'])/Ex_b_s\n",
    "    Data.loc[i,'Execution_n_s_hidden'] = sum(result.loc[Trades_n_s & hidden,'Size'])/Ex_n_s\n",
    "    Data.loc[i,'Execution_s_s_hidden'] = sum(result.loc[Trades_s_s & hidden,'Size'])/Ex_s_s   \n",
    "        \n",
    "    #Tables 5 and 6 (identical, one is buy side an the other is sell side)\n",
    "    \n",
    "    #ratio; posted one tick inside; posted half tick and at the touch by VI x TradeDirection (6)\n",
    "\n",
    "    Data['ratio_b_b'] = mean(result.loc[Trades_b_b,'ratio'])\n",
    "    Data['ratio_n_b'] = mean(result.loc[Trades_n_b,'ratio'])\n",
    "    Data['ratio_s_b'] = mean(result.loc[Trades_s_b,'ratio'])\n",
    "    Data['ratio_b_s'] = mean(result.loc[Trades_b_s,'ratio'])\n",
    "    Data['ratio_n_s'] = mean(result.loc[Trades_n_s,'ratio'])\n",
    "    Data['ratio_s_s'] = mean(result.loc[Trades_s_s,'ratio'])\n",
    "\n",
    "    #'hidden_spread'\n",
    "    \n",
    "    Data['onetick_b_b'] = result.loc[Trades_b_b,'hidden_spread'].value_counts(normalize=True)[1]\n",
    "    Data['onetick_n_b'] = result.loc[Trades_n_b,'hidden_spread'].value_counts(normalize=True)[1]\n",
    "    Data['onetick_s_b'] = result.loc[Trades_s_b,'hidden_spread'].value_counts(normalize=True)[1]\n",
    "    Data['onetick_b_s'] = result.loc[Trades_b_s,'hidden_spread'].value_counts(normalize=True)[1]\n",
    "    Data['onetick_n_s'] = result.loc[Trades_n_s,'hidden_spread'].value_counts(normalize=True)[1]\n",
    "    Data['onetick_s_s'] = result.loc[Trades_s_s,'hidden_spread'].value_counts(normalize=True)[1]\n",
    "\n",
    "    Data['halftick_b_b'] = result.loc[Trades_b_b,'hidden_spread'].value_counts(normalize=True)[0.5]\n",
    "    Data['halftick_n_b'] = result.loc[Trades_n_b,'hidden_spread'].value_counts(normalize=True)[0.5]\n",
    "    Data['halftick_s_b'] = result.loc[Trades_s_b,'hidden_spread'].value_counts(normalize=True)[0.5]\n",
    "    Data['halftick_b_s'] = result.loc[Trades_b_s,'hidden_spread'].value_counts(normalize=True)[0.5]\n",
    "    Data['halftick_n_s'] = result.loc[Trades_n_s,'hidden_spread'].value_counts(normalize=True)[0.5]\n",
    "    Data['halftick_s_s'] = result.loc[Trades_s_s,'hidden_spread'].value_counts(normalize=True)[0.5]\n",
    "\n",
    "                            \n",
    "    #lambdas; b=buy MO arriving (= sell side = (TradeDirection=1)); counting MOs respect to VI_bef\n",
    "    # illustrative plot of hidden spread proxy\n",
    "                                 \n",
    "    time_MOs_buy_heavy_s=result.index[(result.loc[time_MOs,'Type']==4 & result.loc[time_MOs,'TradeDirection']==1) & buy_heavy_bef]\n",
    "    time_MOs_neutral_s=result.index[(result.loc[time_MOs,'Type']==4 & result.loc[time_MOs,'TradeDirection']==1) & neutral_bef]\n",
    "    time_MOs_sell_heavy_s=result.index[(result.loc[time_MOs,'Type']==4 & result.loc[time_MOs,'TradeDirection']==1) & sell_heavy_bef]\n",
    "\n",
    "    time_MOs_buy_heavy_b=result.index[(result.loc[time_MOs,'Type']==4 & result.loc[time_MOs,'TradeDirection']==(-1)) & buy_heavy_bef]\n",
    "    time_MOs_neutral_b=result.index[(result.loc[time_MOs,'Type']==4 & result.loc[time_MOs,'TradeDirection']==(-1)) & neutral_bef]\n",
    "    time_MOs_sell_heavy_b=result.index[(result.loc[time_MOs,'Type']==4 & result.loc[time_MOs,'TradeDirection']==(-1)) & sell_heavy_bef]\n",
    "\n",
    "    time_MOs_buy_heavy_s_h=result.index[(result.loc[time_MOs,'Type']==5 & result.loc[time_MOs,'TradeDirection']==1) & buy_heavy_bef]\n",
    "    time_MOs_neutral_s_h=result.index[(result.loc[time_MOs,'Type']==5 & result.loc[time_MOs,'TradeDirection']==1) & neutral_bef]\n",
    "    time_MOs_sell_heavy_s_h=result.index[(result.loc[time_MOs,'Type']==5 & result.loc[time_MOs,'TradeDirection']==1) & sell_heavy_bef]\n",
    "\n",
    "    time_MOs_buy_heavy_b_h=result.index[(result.loc[time_MOs,'Type']==5 & result.loc[time_MOs,'TradeDirection']==(-1)) & buy_heavy_bef]\n",
    "    time_MOs_neutral_b_h=result.index[(result.loc[time_MOs,'Type']==5 & result.loc[time_MOs,'TradeDirection']==(-1)) & neutral_bef]\n",
    "    time_MOs_sell_heavy_b_h=result.index[(result.loc[time_MOs,'Type']==5 & result.loc[time_MOs,'TradeDirection']==(-1)) & sell_heavy_bef]\n",
    "    \n",
    "    #varying VI, sell or buy MO. visible or hidden execution \n",
    "    \n",
    "    #[% trades, mean size, % size, %time (total orders)] x VI; [%trades, mean size, %size] x VI (hidden), % size and trades hidden (over total)\n",
    "    #mean (visible) ratio x VI,total size, G entrances, mean spread x VI, hidden halfspread x VI, lambdas x VI(sell and buy)\n",
    "    \n",
    "    \n",
    "    #trades\n",
    "    \n",
    "    #sizes\n",
    "    result.loc[time_MOs_buy_heavy,'Size']\n",
    "    \n",
    "    \n",
    "    #ratio (for visible)\n",
    "      \n",
    "    \n",
    "    \n",
    "    #VI dynamics: Time in each state (VI related to Next); Transitions ()\n",
    "    #1 = buy to neutral; 2 = buy to sell; 3 = neutral to buy; 4 = neutral to sell; 5 = sell to buy; 6 = sell to neutral\n",
    "    result['change_z'] = 1*(buy_heavy_bef&neutral)+2*(buy_heavy_bef&sell_heavy)\n",
    "    +3*(neutral_bef&buy_heavy)+4*(neutral_bef&sell_heavy)\n",
    "    +5*(sell_heavy_bef&neutral)+6*(sell_heavy_bef&buy_heavy)\n",
    "    \n",
    "    change = result.index[(result['change_z']!=0)]\n",
    "    result['Next2']=np.zeros(len(result))\n",
    "    result_change=result.loc[change,'Time']    \n",
    "    result_change=np.asarray(result_change.diff().shift(-1))[:-1]\n",
    "    result.loc[change[:(-1)],'Next2']=result_change    \n",
    "    #delete from last index of change til the end?\n",
    "    change_z==1\n",
    "    \n",
    "    G_bn = sum(result.loc[change_z==1,'Next2'])/sum(change_z==1)\n",
    "    G_bs = sum(result.loc[change_z==2,'Next2'])/sum(change_z==2)\n",
    "    G_nb = sum(result.loc[change_z==3,'Next2'])/sum(change_z==3)\n",
    "    G_ns = sum(result.loc[change_z==4,'Next2'])/sum(change_z==4)\n",
    "    G_sb = sum(result.loc[change_z==5,'Next2'])/sum(change_z==5)\n",
    "    G_sn = sum(result.loc[change_z==6,'Next2'])/sum(change_z==6)\n",
    "    \n",
    "    buy_time=sum(result.loc[change_z==1,'Next2'])+sum(result.loc[change_z==2,'Next2'])\n",
    "    neutral_time=sum(result.loc[change_z==3,'Next2'])+sum(result.loc[change_z==4,'Next2'])\n",
    "    sell_time=sum(result.loc[change_z==5,'Next2'])+sum(result.loc[change_z==6,'Next2'])\n",
    "    total_time=buy_time+neutral_time+sell_time\n",
    "    buy_time/=total_time\n",
    "    neutral_time/=total_time\n",
    "    sell_time/=total_time\n",
    "    \n",
    "    \n",
    "    #I have to detect hidden orders at the touch. with Price-Best Price\n",
    "    result['hidden',]\n",
    "    result['hidden_spread']==0\n",
    "\n",
    "      \n",
    "    \n",
    "    \n",
    "    \n",
    "    \n",
    "    \n",
    "    sum(time_MOs_all.loc[buy_heavy,'Executed'])\n",
    "    sum(time_MOs_all.loc[neutral,'Executed'])\n",
    "    sum(time_MOs_all.loc[sell_heavy,'Executed'])\n",
    "    #mean spread in each case\n",
    "    sum(time_MOs_all.loc[buy_heavy&(time_MOs_all['Type']==4),'spread'])/sum(buy_heavy&(time_MOs_all['Type']==4))\n",
    "    sum(time_MOs_all.loc[buy_heavy&(time_MOs_all['Type']==5),'spread'])/sum(buy_heavy&(time_MOs_all['Type']==5))\n",
    "    sum(time_MOs_all.loc[neutral&(time_MOs_all['Type']==4),'spread'])/sum(neutral&(time_MOs_all['Type']==4))\n",
    "    sum(time_MOs_all.loc[neutral&(time_MOs_all['Type']==5),'spread'])/sum(neutral&(time_MOs_all['Type']==5))\n",
    "    sum(time_MOs_all.loc[sell_heavy&(time_MOs_all['Type']==4),'spread'])/sum(sell_heavy&(time_MOs_all['Type']==4))\n",
    "    sum(time_MOs_all.loc[sell_heavy&(time_MOs_all['Type']==5),'spread'])/sum(sell_heavy&(time_MOs_all['Type']==5))\n",
    " \n",
    "    #sum of trades (but i believe i feel comfortable enough just with executions)\n",
    "    #sum(buy_heavy)\n",
    "    #sum(sell_heavy)\n",
    "    #sum(neutral)\n",
    "    sum(time_MOs_all.loc[sell_heavy&(time_MOs_all['Type']==5),'Executed'])#probably better dividing by total of executed\n",
    "    sum(time_MOs_all.loc[buy_heavy&(time_MOs_all['Type']==5),'Executed'])\n",
    "    sum(time_MOs_all.loc[neutral&(time_MOs_all['Type']==5),'Executed'])    \n",
    "\n",
    "    \n",
    "    \n",
    "    \n",
    "    \n",
    "    \n",
    "    #else:\n",
    "     #   anomalies+=1\n",
    "            \n",
    "#print(anomalies)\n",
    "    "
   ]
  },
  {
   "cell_type": "code",
   "execution_count": 207,
   "metadata": {},
   "outputs": [
    {
     "data": {
      "text/plain": [
       "771    False\n",
       "772     True\n",
       "773     True\n",
       "774     True\n",
       "775    False\n",
       "       ...  \n",
       "966    False\n",
       "967    False\n",
       "968    False\n",
       "969    False\n",
       "970    False\n",
       "Length: 200, dtype: bool"
      ]
     },
     "execution_count": 207,
     "metadata": {},
     "output_type": "execute_result"
    }
   ],
   "source": [
    "df_M2=df_M.iloc[:200,]\n",
    "df_M2['Type']==3\n",
    "df_M2.head()\n",
    "time_MOs=df_M2.index[(df_M2['Type']==4 )| (df_M2['Type']==5)]\n",
    "\n",
    "\n",
    "time_MOs_buy_heavy=df_M2.index[(df_M2.loc[time_MOs,'Type']==4 ) & (df_M2['TradeDirection']==1)]\n",
    "d=(df_M2.loc[time_MOs,'Type']==4 ) & (df_M2['TradeDirection']==1)\n",
    "d\n",
    "df_M2.loc[d,]\n",
    "d"
   ]
  },
  {
   "cell_type": "code",
   "execution_count": 226,
   "metadata": {},
   "outputs": [
    {
     "data": {
      "text/plain": [
       "Time              3.977052e+04\n",
       "Type              1.815000e+00\n",
       "OrderID           1.208128e+08\n",
       "Size              8.968500e+01\n",
       "Price             4.878880e+03\n",
       "TradeDirection   -6.900000e-01\n",
       "Next              1.668228e+00\n",
       "dtype: float64"
      ]
     },
     "execution_count": 226,
     "metadata": {},
     "output_type": "execute_result"
    }
   ],
   "source": [
    "df_M2.head()\n",
    "result.head()\n",
    "np.mean(df_M2)"
   ]
  },
  {
   "cell_type": "code",
   "execution_count": 221,
   "metadata": {},
   "outputs": [
    {
     "data": {
      "text/plain": [
       "[772     False\n",
       " 774     False\n",
       " 775      True\n",
       " 776     False\n",
       " 777     False\n",
       "         ...  \n",
       " 6884    False\n",
       " 6885    False\n",
       " 6886    False\n",
       " 6887    False\n",
       " 6888    False\n",
       " Name: VI, Length: 6064, dtype: bool]"
      ]
     },
     "execution_count": 221,
     "metadata": {},
     "output_type": "execute_result"
    }
   ],
   "source": [
    "buy_heavy"
   ]
  },
  {
   "cell_type": "code",
   "execution_count": 222,
   "metadata": {},
   "outputs": [
    {
     "data": {
      "text/plain": [
       "771    False\n",
       "772     True\n",
       "773     True\n",
       "774     True\n",
       "775    False\n",
       "       ...  \n",
       "966    False\n",
       "967    False\n",
       "968    False\n",
       "969    False\n",
       "970    False\n",
       "Length: 200, dtype: bool"
      ]
     },
     "execution_count": 222,
     "metadata": {},
     "output_type": "execute_result"
    }
   ],
   "source": [
    "d"
   ]
  },
  {
   "cell_type": "code",
   "execution_count": 217,
   "metadata": {},
   "outputs": [
    {
     "data": {
      "text/plain": [
       "6064"
      ]
     },
     "execution_count": 217,
     "metadata": {},
     "output_type": "execute_result"
    }
   ],
   "source": [
    "len(result)"
   ]
  },
  {
   "cell_type": "code",
   "execution_count": 218,
   "metadata": {},
   "outputs": [
    {
     "ename": "ValueError",
     "evalue": "PandasArray must be 1-dimensional.",
     "output_type": "error",
     "traceback": [
      "\u001b[1;31m---------------------------------------------------------------------------\u001b[0m",
      "\u001b[1;31mValueError\u001b[0m                                Traceback (most recent call last)",
      "\u001b[1;32m<ipython-input-218-4c2eb643134c>\u001b[0m in \u001b[0;36m<module>\u001b[1;34m\u001b[0m\n\u001b[1;32m----> 1\u001b[1;33m \u001b[0mresult\u001b[0m\u001b[1;33m.\u001b[0m\u001b[0mloc\u001b[0m\u001b[1;33m[\u001b[0m\u001b[0mbuy_heavy\u001b[0m\u001b[1;33m,\u001b[0m\u001b[1;33m]\u001b[0m\u001b[1;33m\u001b[0m\u001b[1;33m\u001b[0m\u001b[0m\n\u001b[0m",
      "\u001b[1;32m~\\Anaconda3\\lib\\site-packages\\pandas\\core\\indexing.py\u001b[0m in \u001b[0;36m__getitem__\u001b[1;34m(self, key)\u001b[0m\n\u001b[0;32m   1760\u001b[0m                 \u001b[1;32mexcept\u001b[0m \u001b[1;33m(\u001b[0m\u001b[0mKeyError\u001b[0m\u001b[1;33m,\u001b[0m \u001b[0mIndexError\u001b[0m\u001b[1;33m,\u001b[0m \u001b[0mAttributeError\u001b[0m\u001b[1;33m)\u001b[0m\u001b[1;33m:\u001b[0m\u001b[1;33m\u001b[0m\u001b[1;33m\u001b[0m\u001b[0m\n\u001b[0;32m   1761\u001b[0m                     \u001b[1;32mpass\u001b[0m\u001b[1;33m\u001b[0m\u001b[1;33m\u001b[0m\u001b[0m\n\u001b[1;32m-> 1762\u001b[1;33m             \u001b[1;32mreturn\u001b[0m \u001b[0mself\u001b[0m\u001b[1;33m.\u001b[0m\u001b[0m_getitem_tuple\u001b[0m\u001b[1;33m(\u001b[0m\u001b[0mkey\u001b[0m\u001b[1;33m)\u001b[0m\u001b[1;33m\u001b[0m\u001b[1;33m\u001b[0m\u001b[0m\n\u001b[0m\u001b[0;32m   1763\u001b[0m         \u001b[1;32melse\u001b[0m\u001b[1;33m:\u001b[0m\u001b[1;33m\u001b[0m\u001b[1;33m\u001b[0m\u001b[0m\n\u001b[0;32m   1764\u001b[0m             \u001b[1;31m# we by definition only have the 0th axis\u001b[0m\u001b[1;33m\u001b[0m\u001b[1;33m\u001b[0m\u001b[1;33m\u001b[0m\u001b[0m\n",
      "\u001b[1;32m~\\Anaconda3\\lib\\site-packages\\pandas\\core\\indexing.py\u001b[0m in \u001b[0;36m_getitem_tuple\u001b[1;34m(self, tup)\u001b[0m\n\u001b[0;32m   1287\u001b[0m                 \u001b[1;32mcontinue\u001b[0m\u001b[1;33m\u001b[0m\u001b[1;33m\u001b[0m\u001b[0m\n\u001b[0;32m   1288\u001b[0m \u001b[1;33m\u001b[0m\u001b[0m\n\u001b[1;32m-> 1289\u001b[1;33m             \u001b[0mretval\u001b[0m \u001b[1;33m=\u001b[0m \u001b[0mgetattr\u001b[0m\u001b[1;33m(\u001b[0m\u001b[0mretval\u001b[0m\u001b[1;33m,\u001b[0m \u001b[0mself\u001b[0m\u001b[1;33m.\u001b[0m\u001b[0mname\u001b[0m\u001b[1;33m)\u001b[0m\u001b[1;33m.\u001b[0m\u001b[0m_getitem_axis\u001b[0m\u001b[1;33m(\u001b[0m\u001b[0mkey\u001b[0m\u001b[1;33m,\u001b[0m \u001b[0maxis\u001b[0m\u001b[1;33m=\u001b[0m\u001b[0mi\u001b[0m\u001b[1;33m)\u001b[0m\u001b[1;33m\u001b[0m\u001b[1;33m\u001b[0m\u001b[0m\n\u001b[0m\u001b[0;32m   1290\u001b[0m \u001b[1;33m\u001b[0m\u001b[0m\n\u001b[0;32m   1291\u001b[0m         \u001b[1;32mreturn\u001b[0m \u001b[0mretval\u001b[0m\u001b[1;33m\u001b[0m\u001b[1;33m\u001b[0m\u001b[0m\n",
      "\u001b[1;32m~\\Anaconda3\\lib\\site-packages\\pandas\\core\\indexing.py\u001b[0m in \u001b[0;36m_getitem_axis\u001b[1;34m(self, key, axis)\u001b[0m\n\u001b[0;32m   1912\u001b[0m             \u001b[1;32mreturn\u001b[0m \u001b[0mself\u001b[0m\u001b[1;33m.\u001b[0m\u001b[0m_get_slice_axis\u001b[0m\u001b[1;33m(\u001b[0m\u001b[0mkey\u001b[0m\u001b[1;33m,\u001b[0m \u001b[0maxis\u001b[0m\u001b[1;33m=\u001b[0m\u001b[0maxis\u001b[0m\u001b[1;33m)\u001b[0m\u001b[1;33m\u001b[0m\u001b[1;33m\u001b[0m\u001b[0m\n\u001b[0;32m   1913\u001b[0m         \u001b[1;32melif\u001b[0m \u001b[0mcom\u001b[0m\u001b[1;33m.\u001b[0m\u001b[0mis_bool_indexer\u001b[0m\u001b[1;33m(\u001b[0m\u001b[0mkey\u001b[0m\u001b[1;33m)\u001b[0m\u001b[1;33m:\u001b[0m\u001b[1;33m\u001b[0m\u001b[1;33m\u001b[0m\u001b[0m\n\u001b[1;32m-> 1914\u001b[1;33m             \u001b[1;32mreturn\u001b[0m \u001b[0mself\u001b[0m\u001b[1;33m.\u001b[0m\u001b[0m_getbool_axis\u001b[0m\u001b[1;33m(\u001b[0m\u001b[0mkey\u001b[0m\u001b[1;33m,\u001b[0m \u001b[0maxis\u001b[0m\u001b[1;33m=\u001b[0m\u001b[0maxis\u001b[0m\u001b[1;33m)\u001b[0m\u001b[1;33m\u001b[0m\u001b[1;33m\u001b[0m\u001b[0m\n\u001b[0m\u001b[0;32m   1915\u001b[0m         \u001b[1;32melif\u001b[0m \u001b[0mis_list_like_indexer\u001b[0m\u001b[1;33m(\u001b[0m\u001b[0mkey\u001b[0m\u001b[1;33m)\u001b[0m\u001b[1;33m:\u001b[0m\u001b[1;33m\u001b[0m\u001b[1;33m\u001b[0m\u001b[0m\n\u001b[0;32m   1916\u001b[0m \u001b[1;33m\u001b[0m\u001b[0m\n",
      "\u001b[1;32m~\\Anaconda3\\lib\\site-packages\\pandas\\core\\indexing.py\u001b[0m in \u001b[0;36m_getbool_axis\u001b[1;34m(self, key, axis)\u001b[0m\n\u001b[0;32m   1780\u001b[0m         \u001b[1;31m# caller is responsible for ensuring non-None axis\u001b[0m\u001b[1;33m\u001b[0m\u001b[1;33m\u001b[0m\u001b[1;33m\u001b[0m\u001b[0m\n\u001b[0;32m   1781\u001b[0m         \u001b[0mlabels\u001b[0m \u001b[1;33m=\u001b[0m \u001b[0mself\u001b[0m\u001b[1;33m.\u001b[0m\u001b[0mobj\u001b[0m\u001b[1;33m.\u001b[0m\u001b[0m_get_axis\u001b[0m\u001b[1;33m(\u001b[0m\u001b[0maxis\u001b[0m\u001b[1;33m)\u001b[0m\u001b[1;33m\u001b[0m\u001b[1;33m\u001b[0m\u001b[0m\n\u001b[1;32m-> 1782\u001b[1;33m         \u001b[0mkey\u001b[0m \u001b[1;33m=\u001b[0m \u001b[0mcheck_bool_indexer\u001b[0m\u001b[1;33m(\u001b[0m\u001b[0mlabels\u001b[0m\u001b[1;33m,\u001b[0m \u001b[0mkey\u001b[0m\u001b[1;33m)\u001b[0m\u001b[1;33m\u001b[0m\u001b[1;33m\u001b[0m\u001b[0m\n\u001b[0m\u001b[0;32m   1783\u001b[0m         \u001b[0minds\u001b[0m \u001b[1;33m=\u001b[0m \u001b[0mkey\u001b[0m\u001b[1;33m.\u001b[0m\u001b[0mnonzero\u001b[0m\u001b[1;33m(\u001b[0m\u001b[1;33m)\u001b[0m\u001b[1;33m[\u001b[0m\u001b[1;36m0\u001b[0m\u001b[1;33m]\u001b[0m\u001b[1;33m\u001b[0m\u001b[1;33m\u001b[0m\u001b[0m\n\u001b[0;32m   1784\u001b[0m         \u001b[1;32mreturn\u001b[0m \u001b[0mself\u001b[0m\u001b[1;33m.\u001b[0m\u001b[0mobj\u001b[0m\u001b[1;33m.\u001b[0m\u001b[0m_take_with_is_copy\u001b[0m\u001b[1;33m(\u001b[0m\u001b[0minds\u001b[0m\u001b[1;33m,\u001b[0m \u001b[0maxis\u001b[0m\u001b[1;33m=\u001b[0m\u001b[0maxis\u001b[0m\u001b[1;33m)\u001b[0m\u001b[1;33m\u001b[0m\u001b[1;33m\u001b[0m\u001b[0m\n",
      "\u001b[1;32m~\\Anaconda3\\lib\\site-packages\\pandas\\core\\indexing.py\u001b[0m in \u001b[0;36mcheck_bool_indexer\u001b[1;34m(index, key)\u001b[0m\n\u001b[0;32m   2326\u001b[0m         \u001b[0mresult\u001b[0m \u001b[1;33m=\u001b[0m \u001b[0mcheck_array_indexer\u001b[0m\u001b[1;33m(\u001b[0m\u001b[0mindex\u001b[0m\u001b[1;33m,\u001b[0m \u001b[0mresult\u001b[0m\u001b[1;33m)\u001b[0m\u001b[1;33m\u001b[0m\u001b[1;33m\u001b[0m\u001b[0m\n\u001b[0;32m   2327\u001b[0m     \u001b[1;32melse\u001b[0m\u001b[1;33m:\u001b[0m\u001b[1;33m\u001b[0m\u001b[1;33m\u001b[0m\u001b[0m\n\u001b[1;32m-> 2328\u001b[1;33m         \u001b[0mresult\u001b[0m \u001b[1;33m=\u001b[0m \u001b[0mcheck_array_indexer\u001b[0m\u001b[1;33m(\u001b[0m\u001b[0mindex\u001b[0m\u001b[1;33m,\u001b[0m \u001b[0mresult\u001b[0m\u001b[1;33m)\u001b[0m\u001b[1;33m\u001b[0m\u001b[1;33m\u001b[0m\u001b[0m\n\u001b[0m\u001b[0;32m   2329\u001b[0m \u001b[1;33m\u001b[0m\u001b[0m\n\u001b[0;32m   2330\u001b[0m     \u001b[1;32mreturn\u001b[0m \u001b[0mresult\u001b[0m\u001b[1;33m\u001b[0m\u001b[1;33m\u001b[0m\u001b[0m\n",
      "\u001b[1;32m~\\Anaconda3\\lib\\site-packages\\pandas\\core\\indexers.py\u001b[0m in \u001b[0;36mcheck_array_indexer\u001b[1;34m(array, indexer)\u001b[0m\n\u001b[0;32m    384\u001b[0m     \u001b[1;31m# convert list-likes to array\u001b[0m\u001b[1;33m\u001b[0m\u001b[1;33m\u001b[0m\u001b[1;33m\u001b[0m\u001b[0m\n\u001b[0;32m    385\u001b[0m     \u001b[1;32mif\u001b[0m \u001b[1;32mnot\u001b[0m \u001b[0mis_array_like\u001b[0m\u001b[1;33m(\u001b[0m\u001b[0mindexer\u001b[0m\u001b[1;33m)\u001b[0m\u001b[1;33m:\u001b[0m\u001b[1;33m\u001b[0m\u001b[1;33m\u001b[0m\u001b[0m\n\u001b[1;32m--> 386\u001b[1;33m         \u001b[0mindexer\u001b[0m \u001b[1;33m=\u001b[0m \u001b[0mpd_array\u001b[0m\u001b[1;33m(\u001b[0m\u001b[0mindexer\u001b[0m\u001b[1;33m)\u001b[0m\u001b[1;33m\u001b[0m\u001b[1;33m\u001b[0m\u001b[0m\n\u001b[0m\u001b[0;32m    387\u001b[0m         \u001b[1;32mif\u001b[0m \u001b[0mlen\u001b[0m\u001b[1;33m(\u001b[0m\u001b[0mindexer\u001b[0m\u001b[1;33m)\u001b[0m \u001b[1;33m==\u001b[0m \u001b[1;36m0\u001b[0m\u001b[1;33m:\u001b[0m\u001b[1;33m\u001b[0m\u001b[1;33m\u001b[0m\u001b[0m\n\u001b[0;32m    388\u001b[0m             \u001b[1;31m# empty list is converted to float array by pd.array\u001b[0m\u001b[1;33m\u001b[0m\u001b[1;33m\u001b[0m\u001b[1;33m\u001b[0m\u001b[0m\n",
      "\u001b[1;32m~\\Anaconda3\\lib\\site-packages\\pandas\\core\\construction.py\u001b[0m in \u001b[0;36marray\u001b[1;34m(data, dtype, copy)\u001b[0m\n\u001b[0;32m    331\u001b[0m         \u001b[1;32mreturn\u001b[0m \u001b[0mTimedeltaArray\u001b[0m\u001b[1;33m.\u001b[0m\u001b[0m_from_sequence\u001b[0m\u001b[1;33m(\u001b[0m\u001b[0mdata\u001b[0m\u001b[1;33m,\u001b[0m \u001b[0mdtype\u001b[0m\u001b[1;33m=\u001b[0m\u001b[0mdtype\u001b[0m\u001b[1;33m,\u001b[0m \u001b[0mcopy\u001b[0m\u001b[1;33m=\u001b[0m\u001b[0mcopy\u001b[0m\u001b[1;33m)\u001b[0m\u001b[1;33m\u001b[0m\u001b[1;33m\u001b[0m\u001b[0m\n\u001b[0;32m    332\u001b[0m \u001b[1;33m\u001b[0m\u001b[0m\n\u001b[1;32m--> 333\u001b[1;33m     \u001b[0mresult\u001b[0m \u001b[1;33m=\u001b[0m \u001b[0mPandasArray\u001b[0m\u001b[1;33m.\u001b[0m\u001b[0m_from_sequence\u001b[0m\u001b[1;33m(\u001b[0m\u001b[0mdata\u001b[0m\u001b[1;33m,\u001b[0m \u001b[0mdtype\u001b[0m\u001b[1;33m=\u001b[0m\u001b[0mdtype\u001b[0m\u001b[1;33m,\u001b[0m \u001b[0mcopy\u001b[0m\u001b[1;33m=\u001b[0m\u001b[0mcopy\u001b[0m\u001b[1;33m)\u001b[0m\u001b[1;33m\u001b[0m\u001b[1;33m\u001b[0m\u001b[0m\n\u001b[0m\u001b[0;32m    334\u001b[0m     \u001b[1;32mreturn\u001b[0m \u001b[0mresult\u001b[0m\u001b[1;33m\u001b[0m\u001b[1;33m\u001b[0m\u001b[0m\n\u001b[0;32m    335\u001b[0m \u001b[1;33m\u001b[0m\u001b[0m\n",
      "\u001b[1;32m~\\Anaconda3\\lib\\site-packages\\pandas\\core\\arrays\\numpy_.py\u001b[0m in \u001b[0;36m_from_sequence\u001b[1;34m(cls, scalars, dtype, copy)\u001b[0m\n\u001b[0;32m    161\u001b[0m         \u001b[1;32mif\u001b[0m \u001b[0mcopy\u001b[0m \u001b[1;32mand\u001b[0m \u001b[0mresult\u001b[0m \u001b[1;32mis\u001b[0m \u001b[0mscalars\u001b[0m\u001b[1;33m:\u001b[0m\u001b[1;33m\u001b[0m\u001b[1;33m\u001b[0m\u001b[0m\n\u001b[0;32m    162\u001b[0m             \u001b[0mresult\u001b[0m \u001b[1;33m=\u001b[0m \u001b[0mresult\u001b[0m\u001b[1;33m.\u001b[0m\u001b[0mcopy\u001b[0m\u001b[1;33m(\u001b[0m\u001b[1;33m)\u001b[0m\u001b[1;33m\u001b[0m\u001b[1;33m\u001b[0m\u001b[0m\n\u001b[1;32m--> 163\u001b[1;33m         \u001b[1;32mreturn\u001b[0m \u001b[0mcls\u001b[0m\u001b[1;33m(\u001b[0m\u001b[0mresult\u001b[0m\u001b[1;33m)\u001b[0m\u001b[1;33m\u001b[0m\u001b[1;33m\u001b[0m\u001b[0m\n\u001b[0m\u001b[0;32m    164\u001b[0m \u001b[1;33m\u001b[0m\u001b[0m\n\u001b[0;32m    165\u001b[0m     \u001b[1;33m@\u001b[0m\u001b[0mclassmethod\u001b[0m\u001b[1;33m\u001b[0m\u001b[1;33m\u001b[0m\u001b[0m\n",
      "\u001b[1;32m~\\Anaconda3\\lib\\site-packages\\pandas\\core\\arrays\\numpy_.py\u001b[0m in \u001b[0;36m__init__\u001b[1;34m(self, values, copy)\u001b[0m\n\u001b[0;32m    145\u001b[0m \u001b[1;33m\u001b[0m\u001b[0m\n\u001b[0;32m    146\u001b[0m         \u001b[1;32mif\u001b[0m \u001b[0mvalues\u001b[0m\u001b[1;33m.\u001b[0m\u001b[0mndim\u001b[0m \u001b[1;33m!=\u001b[0m \u001b[1;36m1\u001b[0m\u001b[1;33m:\u001b[0m\u001b[1;33m\u001b[0m\u001b[1;33m\u001b[0m\u001b[0m\n\u001b[1;32m--> 147\u001b[1;33m             \u001b[1;32mraise\u001b[0m \u001b[0mValueError\u001b[0m\u001b[1;33m(\u001b[0m\u001b[1;34m\"PandasArray must be 1-dimensional.\"\u001b[0m\u001b[1;33m)\u001b[0m\u001b[1;33m\u001b[0m\u001b[1;33m\u001b[0m\u001b[0m\n\u001b[0m\u001b[0;32m    148\u001b[0m \u001b[1;33m\u001b[0m\u001b[0m\n\u001b[0;32m    149\u001b[0m         \u001b[1;32mif\u001b[0m \u001b[0mcopy\u001b[0m\u001b[1;33m:\u001b[0m\u001b[1;33m\u001b[0m\u001b[1;33m\u001b[0m\u001b[0m\n",
      "\u001b[1;31mValueError\u001b[0m: PandasArray must be 1-dimensional."
     ]
    }
   ],
   "source": [
    "result.loc[buy_heavy,]"
   ]
  },
  {
   "cell_type": "code",
   "execution_count": null,
   "metadata": {},
   "outputs": [],
   "source": []
  },
  {
   "cell_type": "code",
   "execution_count": null,
   "metadata": {},
   "outputs": [],
   "source": [
    "startTrad   = 11*60*60     # 11:00:00.000 in ms after midnight\n",
    "endTrad     = 14.5*60*60   # 14:30:00.000 in ms after midnight\n",
    "anomalies=0\n",
    "##\n",
    "for i in range(len(list_of_files_orderbook)):\n",
    "    \n",
    "    ORDERBOOK=list_of_files_orderbook[i]\n",
    "    MSGBOOK=list_of_files_message[i]\n",
    "    \n",
    "    df_O = pd.read_csv(ORDERBOOK, header=None).iloc[:,0:4] #4*n where n is the depth I am interested in. For the moment, at the touch\n",
    "    df_O.columns =[\"Ask_p\",\"Ask_v\",\"Bid_p\",\"Bid_v\"]\n",
    "    df_M = pd.read_csv(MSGBOOK, header=None).iloc[:,0:6]\n",
    "    df_M.columns =[\"Time\" , \"Type\" , \"OrderID\" , \"Size\" , \"Price\" , \"TradeDirection\" ]\n",
    "    \n",
    "    df_O=df_O.loc[(df_M['Time']>=startTrad) & (df_M['Time']<=endTrad),] #remove first and last 90 minutes\n",
    "    df_M=df_M.loc[(df_M['Time']>=startTrad) & (df_M['Time']<=endTrad),] #remove first and last 90 minutes\n",
    "    \n",
    "    df_O\n",
    "    \n",
    "    if (sum(df_M['Type']==7)==0):\n",
    "\n",
    "        \n",
    "        #for each day: time in each VI; trades in each VI; executions in each VI; average difference midprice and executed\n",
    "        # hidden (both VI and buy and sell sides); trades and executions in each VI\n",
    "        \n",
    "        time_MOs=df_M.loc[(df_M['Type']==4 )| (df_M['Type']==5),['Time','TradeDirection','Type']]\n",
    "        index_MOs=time_MOs.index\n",
    "        \n",
    "        time_MOs['MO_window']=np.zeros(len(time_MOs))\n",
    "        time_MOs['Executed']=df_M.loc[index_MOs,'Size']\n",
    "        \n",
    "        time_MOs['Vol_before_Ask']=np.asarray(df_O.loc[index_MOs-1,'Ask_v'])\n",
    "        time_MOs['Vol_before_Bid']=np.asarray(df_O.loc[index_MOs-1,'Bid_v'])\n",
    "        time_MOs['Price_before_Ask']=np.asarray(df_O.loc[index_MOs-1,'Ask_p'])\n",
    "        time_MOs['Price_before_Bid']=np.asarray(df_O.loc[index_MOs-1,'Bid_p'])\n",
    "        time_MOs['Price_hidden']=np.asarray(df_M.loc[index_MOs,'Price']*(df_M.loc[index_MOs,'Type']==5)) \n",
    "        time_MOs['Vol_after_Ask']=df_O.loc[index_MOs,'Ask_v']\n",
    "        time_MOs['Vol_after_Bid']=df_O.loc[index_MOs,'Bid_v']\n",
    "        time_MOs['Price_after_Ask']=df_O.loc[index_MOs,'Ask_p']\n",
    "        time_MOs['Price_after_Bid']=df_O.loc[index_MOs,'Bid_p']\n",
    "        \n",
    "        time_MOs['Day']=i #\n",
    "        \n",
    "        time_MOs_all=time_MOs #this glue together different executions within a trade BUT does not take into account window time\n",
    "        prev_index=time_MOs.index[0]\n",
    "        prev_time=time_MOs.loc[prev_index,'Time']\n",
    "        prev_index_all=prev_index\n",
    "        prev_time_all=prev_time\n",
    "        for i in index_MOs[1:]:\n",
    "            current_time=time_MOs.loc[i,'Time']\n",
    "            if (current_time-prev_time_all<0.0005):\n",
    "            #if (current_time==prev_time_all):\n",
    "                time_MOs_all.loc[prev_index_all,'Vol_after_Ask']=time_MOs_all.loc[i,'Vol_after_Ask'] #i brought backwards the 'after' variables\n",
    "                time_MOs_all.loc[prev_index_all,'Vol_after_Bid']=time_MOs_all.loc[i,'Vol_after_Bid']\n",
    "                time_MOs_all.loc[prev_index_all,'Price_after_Ask']=time_MOs_all.loc[i,'Price_after_Ask']\n",
    "                time_MOs_all.loc[prev_index_all,'Price_after_Bid']=time_MOs_all.loc[i,'Price_after_Bid']\n",
    "                time_MOs_all.loc[prev_index_all,'Executed']+=time_MOs_all.loc[i,'Executed']\n",
    "                time_MOs_all=time_MOs_all.drop(i)\n",
    "\n",
    "            if (current_time-prev_time < after):\n",
    "                if (current_time-prev_time<0.0005):#=0.5 ms. in case the execution is not immediate \n",
    "                #REVISION (i think it is imp in hidden)\n",
    "                #if (current_time==prev_time_all):\n",
    "                    time_MOs.loc[prev_index,'Vol_after_Ask']=time_MOs.loc[i,'Vol_after_Ask'] #i brought backwards the 'after' variables\n",
    "                    time_MOs.loc[prev_index,'Vol_after_Bid']=time_MOs.loc[i,'Vol_after_Bid']\n",
    "                    time_MOs.loc[prev_index,'Price_after_Ask']=time_MOs.loc[i,'Price_after_Ask']\n",
    "                    time_MOs.loc[prev_index,'Price_after_Bid']=time_MOs.loc[i,'Price_after_Bid']\n",
    "                    time_MOs.loc[prev_index,'Executed']+=time_MOs.loc[i,'Executed']\n",
    "                else:\n",
    "                    time_MOs.loc[prev_index,'MO_window']+=1\n",
    "                    prev_index_all=i\n",
    "                    prev_time_all=current_time\n",
    "                time_MOs=time_MOs.drop(i) #I remove anyway in the reduced one\n",
    "            else:\n",
    "                future=min(time_MOs.loc[time_MOs['Time']>(prev_time+after),'Time'].index)\n",
    "                time_MOs.loc[prev_index,'Vol_after_Ask']=df_O.loc[future,'Ask_v']\n",
    "                time_MOs.loc[prev_index,'Vol_after_Bid']=df_O.loc[future,'Bid_v']\n",
    "                time_MOs.loc[prev_index,'Price_after_Ask']=df_O.loc[future,'Ask_p']\n",
    "                time_MOs.loc[prev_index,'Price_after_Bid']=df_O.loc[future,'Bid_p']\n",
    "\n",
    "                prev_index_all=i\n",
    "                prev_time_all=current_time\n",
    "                prev_index=i\n",
    "                prev_time=current_time \n",
    "\n",
    "        time_MOs_c = pd.concat([time_MOs_c, time_MOs], axis=0,ignore_index=True)\n",
    "        time_MOs_all_c = pd.concat([time_MOs_all_c, time_MOs_all], axis=0,ignore_index=True)\n",
    "    #define volume imbalance and spread\n",
    "    time_MOs_all['spread']=time_MOs_all['Price_before_Ask']-time_MOs_all['Price_before_Bid']    \n",
    "    sell_heavy=(time_MOs_all['Vol_before_Bid']-time_MOs_all['Vol_before_Ask'])/(time_MOs_all['Vol_before_Bid']+time_MOs_all['Vol_before_Ask'])<=-1/3\n",
    "    buy_heavy=1/3<=(time_MOs_all['Vol_before_Bid']-time_MOs_all['Vol_before_Ask'])/(time_MOs_all['Vol_before_Bid']+time_MOs_all['Vol_before_Ask'])\n",
    "    neutral=(buy_heavy+sell_heavy==False)\n",
    "    #summarising dayly information \n",
    "    sum(time_MOs_all.loc[buy_heavy,'Executed'])\n",
    "    sum(time_MOs_all.loc[neutral,'Executed'])\n",
    "    sum(time_MOs_all.loc[sell_heavy,'Executed'])\n",
    "    #mean spread in each case\n",
    "    sum(time_MOs_all.loc[buy_heavy&(time_MOs_all['Type']==4),'spread'])/sum(buy_heavy&(time_MOs_all['Type']==4))\n",
    "    sum(time_MOs_all.loc[buy_heavy&(time_MOs_all['Type']==5),'spread'])/sum(buy_heavy&(time_MOs_all['Type']==5))\n",
    "    sum(time_MOs_all.loc[neutral&(time_MOs_all['Type']==4),'spread'])/sum(neutral&(time_MOs_all['Type']==4))\n",
    "    sum(time_MOs_all.loc[neutral&(time_MOs_all['Type']==5),'spread'])/sum(neutral&(time_MOs_all['Type']==5))\n",
    "    sum(time_MOs_all.loc[sell_heavy&(time_MOs_all['Type']==4),'spread'])/sum(sell_heavy&(time_MOs_all['Type']==4))\n",
    "    sum(time_MOs_all.loc[sell_heavy&(time_MOs_all['Type']==5),'spread'])/sum(sell_heavy&(time_MOs_all['Type']==5))\n",
    " \n",
    "    #sum of trades (but i believe i feel comfortable enough just with executions)\n",
    "    #sum(buy_heavy)\n",
    "    #sum(sell_heavy)\n",
    "    #sum(neutral)\n",
    "    sum(time_MOs_all.loc[sell_heavy&(time_MOs_all['Type']==5),'Executed'])#probably better dividing by total of executed\n",
    "    sum(time_MOs_all.loc[buy_heavy&(time_MOs_all['Type']==5),'Executed'])\n",
    "    sum(time_MOs_all.loc[neutral&(time_MOs_all['Type']==5),'Executed'])    \n",
    "\n",
    "        \n",
    "    else:\n",
    "        anomalies+=1\n",
    "            \n",
    "print(anomalies)"
   ]
  },
  {
   "cell_type": "code",
   "execution_count": null,
   "metadata": {},
   "outputs": [],
   "source": []
  },
  {
   "cell_type": "code",
   "execution_count": null,
   "metadata": {},
   "outputs": [],
   "source": []
  },
  {
   "cell_type": "code",
   "execution_count": null,
   "metadata": {},
   "outputs": [],
   "source": []
  },
  {
   "cell_type": "code",
   "execution_count": 397,
   "metadata": {},
   "outputs": [
    {
     "name": "stderr",
     "output_type": "stream",
     "text": [
      "C:\\Users\\usuario\\Anaconda3\\lib\\site-packages\\IPython\\core\\interactiveshell.py:3063: DtypeWarning: Columns (6) have mixed types.Specify dtype option on import or set low_memory=False.\n",
      "  interactivity=interactivity, compiler=compiler, result=result)\n"
     ]
    },
    {
     "name": "stdout",
     "output_type": "stream",
     "text": [
      "0\n"
     ]
    }
   ],
   "source": [
    "startTrad   = 11*60*60     # 11:00:00.000 in ms after midnight\n",
    "endTrad     = 14.5*60*60   # 14:30:00.000 in ms after midnight\n",
    "after= 0.02\n",
    "anomalies=0\n",
    "\n",
    "##\n",
    "time_MOs_c = pd.DataFrame({'Time': [], 'TradeDirection': [], 'Type': [], 'MO_window': [], 'Executed': [],\n",
    "       'Vol_before_Ask': [], 'Vol_before_Bid': [], 'Price_before_Ask': [],'Price_before_Bid': [], 'Price_hidden': [],\n",
    "        'Vol_after_Ask': [], 'Vol_after_Bid': [], 'Price_after_Ask': [], 'Price_after_Bid': [],'Day': []})\n",
    "time_MOs_all_c=time_MOs_c\n",
    "##\n",
    "\n",
    "for i in range(len(list_of_files_orderbook)):\n",
    "    \n",
    "    ORDERBOOK=list_of_files_orderbook[i]\n",
    "    MSGBOOK=list_of_files_message[i]\n",
    "    \n",
    "    df_O = pd.read_csv(ORDERBOOK, header=None).iloc[:,0:4] #4*n where n is the depth I am interested in. For the moment, at the touch\n",
    "    df_O.columns =[\"Ask_p\",\"Ask_v\",\"Bid_p\",\"Bid_v\"]\n",
    "    df_M = pd.read_csv(MSGBOOK, header=None).iloc[:,0:6]\n",
    "    df_M.columns =[\"Time\" , \"Type\" , \"OrderID\" , \"Size\" , \"Price\" , \"TradeDirection\" ]\n",
    "    \n",
    "    df_O=df_O.loc[(df_M['Time']>=startTrad) & (df_M['Time']<=endTrad),] #remove first and last 90 minutes\n",
    "    df_M=df_M.loc[(df_M['Time']>=startTrad) & (df_M['Time']<=endTrad),] #remove first and last 90 minutes\n",
    "    \n",
    "    if (sum(df_M['Type']==7)==0):\n",
    "\n",
    "        \n",
    "        #for each day: time in each VI; trades in each VI; executions in each VI; average difference midprice and executed\n",
    "        # hidden (both VI and buy and sell sides); trades and executions in each VI\n",
    "        \n",
    "        time_MOs=df_M.loc[(df_M['Type']==4 )| (df_M['Type']==5),['Time','TradeDirection','Type']]\n",
    "        index_MOs=time_MOs.index\n",
    "        \n",
    "        time_MOs['MO_window']=np.zeros(len(time_MOs))\n",
    "        time_MOs['Executed']=df_M.loc[index_MOs,'Size']\n",
    "        \n",
    "        time_MOs['Vol_before_Ask']=np.asarray(df_O.loc[index_MOs-1,'Ask_v'])\n",
    "        time_MOs['Vol_before_Bid']=np.asarray(df_O.loc[index_MOs-1,'Bid_v'])\n",
    "        time_MOs['Price_before_Ask']=np.asarray(df_O.loc[index_MOs-1,'Ask_p'])\n",
    "        time_MOs['Price_before_Bid']=np.asarray(df_O.loc[index_MOs-1,'Bid_p'])\n",
    "        time_MOs['Price_hidden']=np.asarray(df_M.loc[index_MOs,'Price']*(df_M.loc[index_MOs,'Type']==5)) \n",
    "        time_MOs['Vol_after_Ask']=df_O.loc[index_MOs,'Ask_v']\n",
    "        time_MOs['Vol_after_Bid']=df_O.loc[index_MOs,'Bid_v']\n",
    "        time_MOs['Price_after_Ask']=df_O.loc[index_MOs,'Ask_p']\n",
    "        time_MOs['Price_after_Bid']=df_O.loc[index_MOs,'Bid_p']\n",
    "        \n",
    "        time_MOs['Day']=i #\n",
    "        \n",
    "        time_MOs_all=time_MOs #this glue together different executions within a trade BUT does not take into account window time\n",
    "        prev_index=time_MOs.index[0]\n",
    "        prev_time=time_MOs.loc[prev_index,'Time']\n",
    "        prev_index_all=prev_index\n",
    "        prev_time_all=prev_time\n",
    "        for i in index_MOs[1:]:\n",
    "            current_time=time_MOs.loc[i,'Time']\n",
    "            if (current_time-prev_time_all<0.0005):\n",
    "            #if (current_time==prev_time_all):\n",
    "                time_MOs_all.loc[prev_index_all,'Vol_after_Ask']=time_MOs_all.loc[i,'Vol_after_Ask'] #i brought backwards the 'after' variables\n",
    "                time_MOs_all.loc[prev_index_all,'Vol_after_Bid']=time_MOs_all.loc[i,'Vol_after_Bid']\n",
    "                time_MOs_all.loc[prev_index_all,'Price_after_Ask']=time_MOs_all.loc[i,'Price_after_Ask']\n",
    "                time_MOs_all.loc[prev_index_all,'Price_after_Bid']=time_MOs_all.loc[i,'Price_after_Bid']\n",
    "                time_MOs_all.loc[prev_index_all,'Executed']+=time_MOs_all.loc[i,'Executed']\n",
    "                time_MOs_all=time_MOs_all.drop(i)\n",
    "\n",
    "            if (current_time-prev_time < after):\n",
    "                if (current_time-prev_time<0.0005):#=0.5 ms. in case the execution is not immediate \n",
    "                #REVISION (i think it is imp in hidden)\n",
    "                #if (current_time==prev_time_all):\n",
    "                    time_MOs.loc[prev_index,'Vol_after_Ask']=time_MOs.loc[i,'Vol_after_Ask'] #i brought backwards the 'after' variables\n",
    "                    time_MOs.loc[prev_index,'Vol_after_Bid']=time_MOs.loc[i,'Vol_after_Bid']\n",
    "                    time_MOs.loc[prev_index,'Price_after_Ask']=time_MOs.loc[i,'Price_after_Ask']\n",
    "                    time_MOs.loc[prev_index,'Price_after_Bid']=time_MOs.loc[i,'Price_after_Bid']\n",
    "                    time_MOs.loc[prev_index,'Executed']+=time_MOs.loc[i,'Executed']\n",
    "                else:\n",
    "                    time_MOs.loc[prev_index,'MO_window']+=1\n",
    "                    prev_index_all=i\n",
    "                    prev_time_all=current_time\n",
    "                time_MOs=time_MOs.drop(i) #I remove anyway in the reduced one\n",
    "            else:\n",
    "                future=min(time_MOs.loc[time_MOs['Time']>(prev_time+after),'Time'].index)\n",
    "                time_MOs.loc[prev_index,'Vol_after_Ask']=df_O.loc[future,'Ask_v']\n",
    "                time_MOs.loc[prev_index,'Vol_after_Bid']=df_O.loc[future,'Bid_v']\n",
    "                time_MOs.loc[prev_index,'Price_after_Ask']=df_O.loc[future,'Ask_p']\n",
    "                time_MOs.loc[prev_index,'Price_after_Bid']=df_O.loc[future,'Bid_p']\n",
    "\n",
    "                prev_index_all=i\n",
    "                prev_time_all=current_time\n",
    "                prev_index=i\n",
    "                prev_time=current_time \n",
    "\n",
    "        time_MOs_c = pd.concat([time_MOs_c, time_MOs], axis=0,ignore_index=True)\n",
    "        time_MOs_all_c = pd.concat([time_MOs_all_c, time_MOs_all], axis=0,ignore_index=True)\n",
    "    #define volume imbalance and spread\n",
    "    time_MOs_all['spread']=time_MOs_all['Price_before_Ask']-time_MOs_all['Price_before_Bid']    \n",
    "    sell_heavy=(time_MOs_all['Vol_before_Bid']-time_MOs_all['Vol_before_Ask'])/(time_MOs_all['Vol_before_Bid']+time_MOs_all['Vol_before_Ask'])<=-1/3\n",
    "    buy_heavy=1/3<=(time_MOs_all['Vol_before_Bid']-time_MOs_all['Vol_before_Ask'])/(time_MOs_all['Vol_before_Bid']+time_MOs_all['Vol_before_Ask'])\n",
    "    neutral=(buy_heavy+sell_heavy==False)\n",
    "    #summarising dayly information \n",
    "    sum(time_MOs_all.loc[buy_heavy,'Executed'])\n",
    "    sum(time_MOs_all.loc[neutral,'Executed'])\n",
    "    sum(time_MOs_all.loc[sell_heavy,'Executed'])\n",
    "    #mean spread in each case\n",
    "    sum(time_MOs_all.loc[buy_heavy&(time_MOs_all['Type']==4),'spread'])/sum(buy_heavy&(time_MOs_all['Type']==4))\n",
    "    sum(time_MOs_all.loc[buy_heavy&(time_MOs_all['Type']==5),'spread'])/sum(buy_heavy&(time_MOs_all['Type']==5))\n",
    "    sum(time_MOs_all.loc[neutral&(time_MOs_all['Type']==4),'spread'])/sum(neutral&(time_MOs_all['Type']==4))\n",
    "    sum(time_MOs_all.loc[neutral&(time_MOs_all['Type']==5),'spread'])/sum(neutral&(time_MOs_all['Type']==5))\n",
    "    sum(time_MOs_all.loc[sell_heavy&(time_MOs_all['Type']==4),'spread'])/sum(sell_heavy&(time_MOs_all['Type']==4))\n",
    "    sum(time_MOs_all.loc[sell_heavy&(time_MOs_all['Type']==5),'spread'])/sum(sell_heavy&(time_MOs_all['Type']==5))\n",
    " \n",
    "    #sum of trades (but i believe i feel comfortable enough just with executions)\n",
    "    #sum(buy_heavy)\n",
    "    #sum(sell_heavy)\n",
    "    #sum(neutral)\n",
    "    sum(time_MOs_all.loc[sell_heavy&(time_MOs_all['Type']==5),'Executed'])#probably better dividing by total of executed\n",
    "    sum(time_MOs_all.loc[buy_heavy&(time_MOs_all['Type']==5),'Executed'])\n",
    "    sum(time_MOs_all.loc[neutral&(time_MOs_all['Type']==5),'Executed'])    \n",
    "\n",
    "        \n",
    "    else:\n",
    "        anomalies+=1\n",
    "            \n",
    "print(anomalies)"
   ]
  },
  {
   "cell_type": "code",
   "execution_count": 407,
   "metadata": {},
   "outputs": [],
   "source": [
    "#add c\n",
    "#c=(time_MOs_all['Type']==5 & time_MOs_all['TradeDirection']==1)\n",
    "sell_heavy=(time_MOs_all['Vol_before_Bid']-time_MOs_all['Vol_before_Ask'])/(time_MOs_all['Vol_before_Bid']+time_MOs_all['Vol_before_Ask'])<=-1/3\n",
    "time_MOs_all['spread']=time_MOs_all['Price_before_Ask']-time_MOs_all['Price_before_Bid']    \n",
    "\n",
    "sum(time_MOs_all.loc[sell_heavy&(time_MOs_all['Type']==4),'spread'])/sum(sell_heavy&(time_MOs_all['Type']==4))\n",
    "np.mean(time_MOs_all.loc[sell_heavy&(time_MOs_all['Type']==4),'spread'])\n",
    "np.std(time_MOs_all.loc[sell_heavy&(time_MOs_all['Type']==4),'spread'])\n",
    "\n",
    "c=time_MOs_all['Type']==5 & (time_MOs_all['TradeDirection']==1)\n",
    "\n",
    "#time_MOs_all['Type']==5 "
   ]
  },
  {
   "cell_type": "code",
   "execution_count": 408,
   "metadata": {},
   "outputs": [
    {
     "data": {
      "text/plain": [
       "455"
      ]
     },
     "execution_count": 408,
     "metadata": {},
     "output_type": "execute_result"
    }
   ],
   "source": [
    "sum(buy_heavy)"
   ]
  },
  {
   "cell_type": "code",
   "execution_count": 409,
   "metadata": {},
   "outputs": [],
   "source": [
    "#GAP BETWEEN HIDDEN ORDERS AND BEST PRICES\n",
    "#INCLUDE VOLUME IMBALANCE\n",
    "#INFORMATION BY HISTOGRAMS? KEEPING ALL  THE DATA ALONG THE 3-MONTHS PERIOD?\n",
    "buy=time_MOs_all['TradeDirection']==1\n",
    "sell=time_MOs_all['TradeDirection']==-1\n",
    "hidden=time_MOs_all['Type']==5\n",
    "uu=time_MOs_all.loc[hidden&buy,]\n",
    "uu['Price_hidden']-uu['Price_before_Bid']\n",
    "uu=time_MOs_all.loc[hidden&buy,]\n",
    "dif=uu['Price_before_Ask']-uu['Price_hidden']"
   ]
  },
  {
   "cell_type": "code",
   "execution_count": 410,
   "metadata": {},
   "outputs": [
    {
     "data": {
      "text/plain": [
       "(array([1.37115839, 0.        , 0.        , 0.        , 0.        ,\n",
       "        8.321513  , 0.        , 0.        , 0.        , 0.30732861]),\n",
       " array([0. , 0.1, 0.2, 0.3, 0.4, 0.5, 0.6, 0.7, 0.8, 0.9, 1. ]),\n",
       " <a list of 10 Patch objects>)"
      ]
     },
     "execution_count": 410,
     "metadata": {},
     "output_type": "execute_result"
    },
    {
     "data": {
      "image/png": "[encoded data removed]",
      "text/plain": [
       "<Figure size 432x288 with 1 Axes>"
      ]
     },
     "metadata": {
      "needs_background": "light"
     },
     "output_type": "display_data"
    }
   ],
   "source": [
    "#represent together the 3 regimes?\n",
    "plt.hist(dif/100,density=True, rwidth=1) #measured in ticks"
   ]
  },
  {
   "cell_type": "code",
   "execution_count": 401,
   "metadata": {},
   "outputs": [
    {
     "data": {
      "image/png": "[encoded data removed]",
      "text/plain": [
       "<Figure size 432x288 with 1 Axes>"
      ]
     },
     "metadata": {
      "needs_background": "light"
     },
     "output_type": "display_data"
    }
   ],
   "source": [
    "x=np.linspace(0,800,9)/100\n",
    "#x=np.linspace(0,800,17)/100 #q raro, no?\n",
    "#https://matplotlib.org/3.1.0/api/_as_gen/matplotlib.pyplot.hist.html\n",
    "n, bins, patches = plt.hist(dif/100, color='#0504aa',bins=x, density=True, align='left',\n",
    "                            alpha=0.7, rwidth=0.85)"
   ]
  },
  {
   "cell_type": "code",
   "execution_count": 389,
   "metadata": {},
   "outputs": [
    {
     "data": {
      "text/plain": [
       "array([0. , 0.5, 1. , 1.5, 2. , 2.5, 3. , 3.5, 4. , 4.5, 5. , 5.5, 6. ,\n",
       "       6.5, 7. , 7.5, 8. ])"
      ]
     },
     "execution_count": 389,
     "metadata": {},
     "output_type": "execute_result"
    }
   ],
   "source": [
    "bins"
   ]
  },
  {
   "cell_type": "code",
   "execution_count": 355,
   "metadata": {},
   "outputs": [
    {
     "data": {
      "text/plain": [
       "array([  25.,  125.,  225.,  325.,  425.,  525.,  625.,  725.,  825.,\n",
       "        925., 1025.])"
      ]
     },
     "execution_count": 355,
     "metadata": {},
     "output_type": "execute_result"
    }
   ],
   "source": [
    "x=np.linspace(25,1025,11)"
   ]
  },
  {
   "cell_type": "code",
   "execution_count": 332,
   "metadata": {},
   "outputs": [
    {
     "data": {
      "text/plain": [
       "array([   0.        ,   58.82352941,  117.64705882,  176.47058824,\n",
       "        235.29411765,  294.11764706,  352.94117647,  411.76470588,\n",
       "        470.58823529,  529.41176471,  588.23529412,  647.05882353,\n",
       "        705.88235294,  764.70588235,  823.52941176,  882.35294118,\n",
       "        941.17647059, 1000.        ])"
      ]
     },
     "execution_count": 332,
     "metadata": {},
     "output_type": "execute_result"
    }
   ],
   "source": [
    "bins"
   ]
  },
  {
   "cell_type": "code",
   "execution_count": 255,
   "metadata": {},
   "outputs": [
    {
     "data": {
      "text/plain": [
       "476"
      ]
     },
     "execution_count": 255,
     "metadata": {},
     "output_type": "execute_result"
    }
   ],
   "source": [
    "sum(sell_heavy)"
   ]
  },
  {
   "cell_type": "code",
   "execution_count": 261,
   "metadata": {},
   "outputs": [
    {
     "data": {
      "text/plain": [
       "2        False\n",
       "4        False\n",
       "7        False\n",
       "13       False\n",
       "15       False\n",
       "         ...  \n",
       "22544    False\n",
       "22545    False\n",
       "23152    False\n",
       "23153    False\n",
       "23423    False\n",
       "Length: 1628, dtype: bool"
      ]
     },
     "execution_count": 261,
     "metadata": {},
     "output_type": "execute_result"
    }
   ],
   "source": [
    "buy_heavy"
   ]
  },
  {
   "cell_type": "code",
   "execution_count": 403,
   "metadata": {},
   "outputs": [
    {
     "data": {
      "text/plain": [
       "2         True\n",
       "4        False\n",
       "7        False\n",
       "13        True\n",
       "15        True\n",
       "         ...  \n",
       "22544    False\n",
       "22545    False\n",
       "23152    False\n",
       "23153    False\n",
       "23423    False\n",
       "Length: 1628, dtype: bool"
      ]
     },
     "execution_count": 403,
     "metadata": {},
     "output_type": "execute_result"
    }
   ],
   "source": [
    "sell_heavy&sell_heavy"
   ]
  },
  {
   "cell_type": "code",
   "execution_count": 402,
   "metadata": {},
   "outputs": [
    {
     "name": "stderr",
     "output_type": "stream",
     "text": [
      "C:\\Users\\usuario\\Anaconda3\\lib\\site-packages\\pandas\\core\\computation\\expressions.py:178: UserWarning: evaluating in Python space because the '+' operator is not supported by numexpr for the bool dtype, use '|' instead\n",
      "  f\"evaluating in Python space because the {repr(op_str)} \"\n"
     ]
    },
    {
     "data": {
      "text/plain": [
       "697"
      ]
     },
     "execution_count": 402,
     "metadata": {},
     "output_type": "execute_result"
    }
   ],
   "source": [
    "sum(buy_heavy+sell_heavy==False)"
   ]
  },
  {
   "cell_type": "code",
   "execution_count": 244,
   "metadata": {},
   "outputs": [
    {
     "data": {
      "text/plain": [
       "1628"
      ]
     },
     "execution_count": 244,
     "metadata": {},
     "output_type": "execute_result"
    }
   ],
   "source": [
    "len(time_MOs_all)"
   ]
  },
  {
   "cell_type": "code",
   "execution_count": null,
   "metadata": {},
   "outputs": [],
   "source": [
    "#compute:\n",
    "\n",
    "#arrival rate (volume imbalance depending)\n",
    "#amount traded (not number of executions¡)\n",
    "#walking the book?\n",
    "#amount hidden traded. price at which is executed (walk the book?)\n",
    "#spreads\n",
    "\n",
    "#dayly evolution?\n",
    "\n",
    "\n",
    "ex.to_pickle(\"./dummy.pkl\")"
   ]
  },
  {
   "cell_type": "code",
   "execution_count": null,
   "metadata": {
    "scrolled": true
   },
   "outputs": [],
   "source": [
    "hide_toggle(for_next=True)"
   ]
  },
  {
   "cell_type": "code",
   "execution_count": null,
   "metadata": {},
   "outputs": [],
   "source": [
    "\n",
    "# Message file information:\n",
    "# ----------------------------------------------------------\n",
    "#\n",
    "#   - Dimension:    (NumberEvents x 6)\n",
    "#\n",
    "#   - Structure:    Each row:\n",
    "#                   Time stamp (sec after midnight with decimal\n",
    "#                   precision of at least milliseconds and\n",
    "#                   up to nanoseconds depending on the period),\n",
    "#                   Event type, Order ID, Size (# of shares),\n",
    "#                   Price, Direction\n",
    "#\n",
    "#                   Event types:\n",
    "#                       - '1'   Submission new limit order\n",
    "#                       - '2'   Cancellation (partial)\n",
    "#                       - '3'   Deletion (total order)\n",
    "#                       - '4'   Execution of a visible limit order\n",
    "#                       - '5'   Execution of a hidden limit order\n",
    "# \t\t\t- '7'   Trading Halt (Detailed \n",
    "#                               information below)\n",
    "#\n",
    "#                   Direction:\n",
    "#                       - '-1'  Sell limit order\n",
    "#                       - '-2'  Buy limit order\n",
    "#                       - NOTE: Execution of a sell (buy)\n",
    "#                               limit order corresponds to\n",
    "#                               a buyer-(seller-) initiated\n",
    "#                               trade, i.e. a BUY (SELL) trade.\n",
    "#\n",
    "# ----------------------------------------------------------\n",
    "\n",
    "#_____________________________________________________________________________\n",
    "#\n",
    "# Data Preparation - Message File\n",
    "# Remove observations outside the official trading hours\n",
    "#_____________________________________________________________________________\n",
    "#              \n",
    "\n",
    "\n",
    "# Trading hours (start & end)\n",
    "startTrad   = 9.5*60*60;       # 9:30:00.000 in ms after midnight\n",
    "endTrad     = 16*60*60;        # 16:00:00.000 in ms after midnight\n",
    "\n",
    "\n",
    "# dataM_part is data frame containing messages during the continue trading period\n",
    "\n",
    "#df_M_part=df_M.loc[(df_M['Time']>=startTrad) & (df_M['Time']<=endTrad),] #remove first and last 30 minutes?\n",
    "#before loop of dates\n",
    "\n",
    "# Note: As the rows of the message and orderbook file correspond to each other, the time index of\n",
    "# the message file can also be used to 'cut' the orderbook file.\n",
    "hide_toggle(for_next=True)\n",
    "# Check for trading halts\n",
    "# ----------------------------------------------------------\n",
    "\n",
    "tradehaltIdx = (df_M['Type']==7) & (df_M['TradeDirection']==-1)\n",
    "tradequoteIdx = (df_M['Type']==7) & (df_M['TradeDirection']==0)\n",
    "traderesumeIdx = (df_M['Type']==7) & (df_M['TradeDirection']==1)\n",
    "  \n",
    "if (sum(tradehaltIdx)==0 & sum(tradequoteIdx)==0  & sum(traderesumeIdx)==0 ):\n",
    "    print(\"No trading halts detected.\")\n",
    "    \n",
    "#pendiente. mirar\n",
    "''' \n",
    "if(sum(tradehaltIdx) !=0):\n",
    "    cat(\"Data contains trading halt! at time stamp(s)\", dataM[tradehaltIdx,1],\"\\n\" )\n",
    "    \t\t\n",
    "if(length(tradequoteIdx) !=0)\n",
    "\tcat(\" Data contains quoting message! at time stamp(s)\", dataM[tradequoteIdx,1], \"\\n\")\n",
    "\t\t\t\n",
    "if(length(traderesumeIdx) !=0)\n",
    "\tcat(\" Data resumes trading! at time stamp(s) \", dataM[traderesumeIdx,1],\"\\n\")\n",
    "\t\t\n",
    "\t\n",
    "''' \n",
    "#\n",
    "#\t\tWhen trading halts, a message of type '7' is written into the \n",
    "#\t\t'message' file. The corresponding price and trade direction \n",
    "#\t\tare set to '-1' and all other properties are set to '0'. \n",
    "#\t\tShould the resume of quoting be indicated by an additional \n",
    "#\t\tmessage in NASDAQ's Historical TotalView-ITCH files, another \n",
    "#\t\tmessage of type '7' with price '0' is added to the 'message' \n",
    "#\t\tfile. Again, the trade direction is set to '-1' and all other \n",
    "#\t\tfields are set to '0'. \n",
    "#\t\tWhen trading resumes a message of type '7' and \n",
    "#\t\tprice '1' (Trade direction '-1' and all other \n",
    "#\t\tentries '0') is written to the 'message' file. For messages \n",
    "#\t\tof type '7', the corresponding order book rows contain a \n",
    "#\t\tduplication of the preceding order book state. The reason \n",
    "#\t\tfor the trading halt is not included in the output.\n",
    "#\t\t\t\t\t\t\n",
    "#\t\tExample: Stylized trading halt messages in 'message' file.\t\t\t\t\n",
    "#\t\n",
    "#\t\tHalt: \t\t\t36023\t| 7 | 0 | 0 | -1 | -1\n",
    "#\t\t\t\t\t\t\t\t\t\t\t...\n",
    "#\t\tQuoting: \t\t36323 \t| 7 | 0 | 0 | 0  | -1\n",
    "#\t\t\t\t\t\t\t\t\t\t\t...\n",
    "#\t\tResume Trading:\t\t36723   | 7 | 0 | 0 | 1  | -1\n",
    "#\t\t\t\t\t\t\t\t\t\t\t...\n",
    "#\t\tThe vertical bars indicate the different columns in the  \n",
    "#\t\tmessage file.\n",
    "\n"
   ]
  },
  {
   "cell_type": "code",
   "execution_count": null,
   "metadata": {},
   "outputs": [],
   "source": [
    "'''\n",
    "cosas que quiero:\n",
    "\n",
    "quiero definir probabilidades segun postee al mejor precio o dentro del spread. Puedo tratar variables binarias o meter \n",
    "volumenes, en cuyo caso la probabilidad no seria constante, y dependeria ademas del estado de imbalance.\n",
    "\n",
    "\n",
    "-cambio tras MO de 0 +-0.5 +-1 (comparar con alvaro)\n",
    "-definir variable porcentaje de filling de una mo. Puedo querer definir una MO como una distribucion exponencial\n",
    "-estudiar el spread en relacion con lo anterior (ademas de con Z), ademas del best bid and ask. Mirar con Mos y Los (dado Z)\n",
    "-puedo eliminar el tiempo que NO sigue una MO y sobre esa base sacar cambios de precio y volume imbalance...\n",
    "-hidden activity?\n",
    "'''\n",
    "'''\n",
    "create MOs matrix:\n",
    "-timestamp\n",
    "-sign \n",
    "-volume executed\n",
    "-volume posted at the best price immediatly before the arrival\n",
    "-best 2 prices before de MO\n",
    "-volume posted at the best prices immediatly after the arrival\n",
    "-best 2 prices after de MO\n",
    "\n",
    "Note: define after (10 ms/50 ms?)\n",
    "\n",
    "what if more MOs arrive within that window? First approach: we deal with this activity as we do with reshuffling,\n",
    "so we do not take the following MOs into consideration to be filled.\n",
    "a\n",
    "-Number of MOs within that window (?)\n",
    "\n",
    "'''\n",
    "#crear columna de numero d ejecuciones dentro de un trade. volumen en un trade. precios y volumenes iniciales. precios y \n",
    "#volumenes finales. precios y volumenes dentro de 30 ms. otras M0s en la ventana"
   ]
  },
  {
   "cell_type": "code",
   "execution_count": null,
   "metadata": {},
   "outputs": [],
   "source": [
    "#I eliminate data IF it is within the window, and count how many MOs are in the window\n",
    "time_MOs=df_M.loc[df_M['Type']==(4 or 5),['Time','TradeDirection','Type']]\n",
    "index_MOs=time_MOs.index\n",
    "time_MOs['MO_window']=np.zeros(len(time_MOs))\n",
    "time_MOs['Executed']=df_M.loc[index_MOs,'Size']\n",
    "time_MOs['Vol_before_Ask']=np.asarray(df_O.loc[index_MOs-1,'Ask_v'])\n",
    "time_MOs['Vol_before_Bid']=np.asarray(df_O.loc[index_MOs-1,'Bid_v'])\n",
    "time_MOs['Price_before_Ask']=np.asarray(df_O.loc[index_MOs-1,'Ask_p'])\n",
    "time_MOs['Price_before_Bid']=np.asarray(df_O.loc[index_MOs-1,'Bid_p'])\n",
    "time_MOs['Price_hidden']=np.asarray(df_M.loc[index_MOs-1,'Price']) #price hidden order\n",
    "time_MOs['Vol_after_Ask']=np.zeros(len(time_MOs))\n",
    "time_MOs['Vol_after_Bid']=np.zeros(len(time_MOs))\n",
    "time_MOs['Price_after_Ask']=np.zeros(len(time_MOs))\n",
    "time_MOs['Price_after_Bid']=np.zeros(len(time_MOs))\n",
    "time_MOs_all=time_MOs #this glue together different executions within a trade BUT does not take into account window time\n",
    "prev_index=time_MOs.index[0]\n",
    "prev_time=time_MOs.loc[prev_index,'Time']\n",
    "for i in index_MOs[1:]:\n",
    "    current_time=time_MOs.loc[i,'Time']\n",
    "    if (current_time-prev_time < after):\n",
    "        if (current_time==prev_time):\n",
    "            time_MOs.loc[prev_index,'Executed']+=time_MOs.loc[i,'Executed']\n",
    "            time_MOs_all.loc[previndex,]=time_MOs.loc[previndex,]\n",
    "        else:     \n",
    "            time_MOs.loc[prev_index,'MO_window']+=1\n",
    "            time_MOs=time_MOs.drop(i)\n",
    "    else:\n",
    "        try:\n",
    "            future=min(time_MOs.loc[time_MOs['Time']>current_time+after,'Time'].index)\n",
    "            #there is a problem at the end of the sample. Add try and out of this loop\n",
    "            #while s.t. we remove rows til there is no zeros in future variables\n",
    "            time_MOs.loc[prev_index,'Vol_after_Ask']+=df_O.loc[future,'Ask_v']\n",
    "            time_MOs.loc[prev_index,'Vol_after_Bid']+=df_O.loc[future,'Bid_v']\n",
    "            time_MOs.loc[prev_index,'Price_after_Ask']+=df_O.loc[future,'Ask_p']\n",
    "            time_MOs.loc[prev_index,'Price_after_Bid']+=df_O.loc[future,'Bid_p']\n",
    "            time_MOs_all.loc[previndex,]=time_MOs.loc[previndex,]\n",
    "            \n",
    "            prev_index=i\n",
    "            prev_time=current_time\n",
    "        except:\n",
    "            break"
   ]
  },
  {
   "cell_type": "code",
   "execution_count": null,
   "metadata": {},
   "outputs": [],
   "source": []
  },
  {
   "cell_type": "code",
   "execution_count": null,
   "metadata": {},
   "outputs": [],
   "source": [
    "##volume imabalance\n",
    "## change of price (given buy or sell MO)\n",
    "##spread\n",
    "#how many MOs within the windows?\n",
    "\n",
    "#https://mode.com/example-gallery/python_histogram/\n",
    "\n",
    "time_MOs.loc[prev_index,'MO_window']+1"
   ]
  },
  {
   "cell_type": "code",
   "execution_count": null,
   "metadata": {},
   "outputs": [],
   "source": [
    "future"
   ]
  },
  {
   "cell_type": "code",
   "execution_count": null,
   "metadata": {},
   "outputs": [],
   "source": [
    "sum(time_MOs['MO_window']!=0)/len(time_MOs)"
   ]
  },
  {
   "cell_type": "code",
   "execution_count": null,
   "metadata": {},
   "outputs": [],
   "source": [
    "sum(time_MOs['MO_window'])"
   ]
  },
  {
   "cell_type": "markdown",
   "metadata": {},
   "source": [
    "#DRAWING THE MODELS"
   ]
  },
  {
   "cell_type": "code",
   "execution_count": 462,
   "metadata": {},
   "outputs": [
    {
     "ename": "AttributeError",
     "evalue": "'AxesSubplot' object has no attribute 'cmap'",
     "output_type": "error",
     "traceback": [
      "\u001b[1;31m---------------------------------------------------------------------------\u001b[0m",
      "\u001b[1;31mAttributeError\u001b[0m                            Traceback (most recent call last)",
      "\u001b[1;32m<ipython-input-462-e60ce2caa870>\u001b[0m in \u001b[0;36m<module>\u001b[1;34m\u001b[0m\n\u001b[0;32m     14\u001b[0m \u001b[1;31m#values = np.unique(a.ravel())\u001b[0m\u001b[1;33m\u001b[0m\u001b[1;33m\u001b[0m\u001b[1;33m\u001b[0m\u001b[0m\n\u001b[0;32m     15\u001b[0m \u001b[0mvalues\u001b[0m \u001b[1;33m=\u001b[0m \u001b[0mnp\u001b[0m\u001b[1;33m.\u001b[0m\u001b[0marray\u001b[0m\u001b[1;33m(\u001b[0m\u001b[1;33m[\u001b[0m\u001b[1;36m0\u001b[0m\u001b[1;33m,\u001b[0m\u001b[1;36m1\u001b[0m\u001b[1;33m,\u001b[0m\u001b[1;36m2\u001b[0m\u001b[1;33m]\u001b[0m\u001b[1;33m)\u001b[0m\u001b[1;33m\u001b[0m\u001b[1;33m\u001b[0m\u001b[0m\n\u001b[1;32m---> 16\u001b[1;33m \u001b[0mcolors\u001b[0m \u001b[1;33m=\u001b[0m \u001b[1;33m[\u001b[0m \u001b[0mim\u001b[0m\u001b[1;33m.\u001b[0m\u001b[0mcmap\u001b[0m\u001b[1;33m(\u001b[0m\u001b[0mim\u001b[0m\u001b[1;33m.\u001b[0m\u001b[0mnorm\u001b[0m\u001b[1;33m(\u001b[0m\u001b[0mvalue\u001b[0m\u001b[1;33m)\u001b[0m\u001b[1;33m)\u001b[0m \u001b[1;32mfor\u001b[0m \u001b[0mvalue\u001b[0m \u001b[1;32min\u001b[0m \u001b[0mvalues\u001b[0m\u001b[1;33m]\u001b[0m\u001b[1;33m\u001b[0m\u001b[1;33m\u001b[0m\u001b[0m\n\u001b[0m\u001b[0;32m     17\u001b[0m \u001b[1;31m#colors =\u001b[0m\u001b[1;33m\u001b[0m\u001b[1;33m\u001b[0m\u001b[1;33m\u001b[0m\u001b[0m\n\u001b[0;32m     18\u001b[0m \u001b[0mlabel\u001b[0m \u001b[1;33m=\u001b[0m \u001b[0mnp\u001b[0m\u001b[1;33m.\u001b[0m\u001b[0marray\u001b[0m\u001b[1;33m(\u001b[0m\u001b[1;33m[\u001b[0m\u001b[1;34m'no posting'\u001b[0m\u001b[1;33m,\u001b[0m\u001b[1;34m'at the touch'\u001b[0m\u001b[1;33m,\u001b[0m\u001b[1;34m'hidden post'\u001b[0m\u001b[1;33m]\u001b[0m\u001b[1;33m)\u001b[0m\u001b[1;33m\u001b[0m\u001b[1;33m\u001b[0m\u001b[0m\n",
      "\u001b[1;32m<ipython-input-462-e60ce2caa870>\u001b[0m in \u001b[0;36m<listcomp>\u001b[1;34m(.0)\u001b[0m\n\u001b[0;32m     14\u001b[0m \u001b[1;31m#values = np.unique(a.ravel())\u001b[0m\u001b[1;33m\u001b[0m\u001b[1;33m\u001b[0m\u001b[1;33m\u001b[0m\u001b[0m\n\u001b[0;32m     15\u001b[0m \u001b[0mvalues\u001b[0m \u001b[1;33m=\u001b[0m \u001b[0mnp\u001b[0m\u001b[1;33m.\u001b[0m\u001b[0marray\u001b[0m\u001b[1;33m(\u001b[0m\u001b[1;33m[\u001b[0m\u001b[1;36m0\u001b[0m\u001b[1;33m,\u001b[0m\u001b[1;36m1\u001b[0m\u001b[1;33m,\u001b[0m\u001b[1;36m2\u001b[0m\u001b[1;33m]\u001b[0m\u001b[1;33m)\u001b[0m\u001b[1;33m\u001b[0m\u001b[1;33m\u001b[0m\u001b[0m\n\u001b[1;32m---> 16\u001b[1;33m \u001b[0mcolors\u001b[0m \u001b[1;33m=\u001b[0m \u001b[1;33m[\u001b[0m \u001b[0mim\u001b[0m\u001b[1;33m.\u001b[0m\u001b[0mcmap\u001b[0m\u001b[1;33m(\u001b[0m\u001b[0mim\u001b[0m\u001b[1;33m.\u001b[0m\u001b[0mnorm\u001b[0m\u001b[1;33m(\u001b[0m\u001b[0mvalue\u001b[0m\u001b[1;33m)\u001b[0m\u001b[1;33m)\u001b[0m \u001b[1;32mfor\u001b[0m \u001b[0mvalue\u001b[0m \u001b[1;32min\u001b[0m \u001b[0mvalues\u001b[0m\u001b[1;33m]\u001b[0m\u001b[1;33m\u001b[0m\u001b[1;33m\u001b[0m\u001b[0m\n\u001b[0m\u001b[0;32m     17\u001b[0m \u001b[1;31m#colors =\u001b[0m\u001b[1;33m\u001b[0m\u001b[1;33m\u001b[0m\u001b[1;33m\u001b[0m\u001b[0m\n\u001b[0;32m     18\u001b[0m \u001b[0mlabel\u001b[0m \u001b[1;33m=\u001b[0m \u001b[0mnp\u001b[0m\u001b[1;33m.\u001b[0m\u001b[0marray\u001b[0m\u001b[1;33m(\u001b[0m\u001b[1;33m[\u001b[0m\u001b[1;34m'no posting'\u001b[0m\u001b[1;33m,\u001b[0m\u001b[1;34m'at the touch'\u001b[0m\u001b[1;33m,\u001b[0m\u001b[1;34m'hidden post'\u001b[0m\u001b[1;33m]\u001b[0m\u001b[1;33m)\u001b[0m\u001b[1;33m\u001b[0m\u001b[1;33m\u001b[0m\u001b[0m\n",
      "\u001b[1;31mAttributeError\u001b[0m: 'AxesSubplot' object has no attribute 'cmap'"
     ]
    },
    {
     "data": {
      "image/png": "[encoded data removed]",
      "text/plain": [
       "<Figure size 576x576 with 2 Axes>"
      ]
     },
     "metadata": {
      "needs_background": "light"
     },
     "output_type": "display_data"
    }
   ],
   "source": [
    "import matplotlib.patches as mpatches\n",
    "\n",
    "times=100 #colums\n",
    "inventory=10 #rows\n",
    "a=np.zeros((inventory,times))\n",
    "a[:,:20]=1\n",
    "a[:,22:30]=2\n",
    "\n",
    "\n",
    "plt.figure(figsize=(8,8))\n",
    "im=sns.heatmap(a)\n",
    "#im=plt.imshow(a)#interpolation?\n",
    "\n",
    "#values = np.unique(a.ravel())\n",
    "values = np.array([0,1,2]) \n",
    "colors = [ im.cmap(im.norm(value)) for value in values]\n",
    "#colors = \n",
    "label = np.array(['no posting','at the touch','hidden post'])\n",
    "\n",
    "# create a patch (proxy artist) for every color \n",
    "patches = [ mpatches.Patch(color=colors[i], label=label[i] ) for i in range(len(values)) ]\n",
    "# put those patched as legend-handles into the legend\n",
    "plt.legend(handles=patches, bbox_to_anchor=(1.05, 1), loc=2, borderaxespad=0. )\n",
    "\n",
    "plt.show()"
   ]
  },
  {
   "cell_type": "code",
   "execution_count": 427,
   "metadata": {},
   "outputs": [
    {
     "data": {
      "text/plain": [
       "array([0., 0., 0., 0., 0., 0., 0., 0., 0., 0.])"
      ]
     },
     "execution_count": 427,
     "metadata": {},
     "output_type": "execute_result"
    }
   ],
   "source": [
    "a[:,2]"
   ]
  },
  {
   "cell_type": "code",
   "execution_count": null,
   "metadata": {},
   "outputs": [],
   "source": [
    "#xaxis time t. yaxis inventory q. condition=c(t,q)"
   ]
  },
  {
   "cell_type": "code",
   "execution_count": 444,
   "metadata": {},
   "outputs": [
    {
     "data": {
      "text/plain": [
       "array([0., 1.])"
      ]
     },
     "execution_count": 444,
     "metadata": {},
     "output_type": "execute_result"
    }
   ],
   "source": [
    "values"
   ]
  },
  {
   "cell_type": "code",
   "execution_count": 448,
   "metadata": {},
   "outputs": [],
   "source": [
    "v=np.array(['no posting','at the touch','hidden post'])"
   ]
  },
  {
   "cell_type": "code",
   "execution_count": 449,
   "metadata": {},
   "outputs": [
    {
     "data": {
      "text/plain": [
       "array(['no posting', 'at the touch', 'hidden post'], dtype='<U12')"
      ]
     },
     "execution_count": 449,
     "metadata": {},
     "output_type": "execute_result"
    }
   ],
   "source": [
    "v"
   ]
  },
  {
   "cell_type": "code",
   "execution_count": null,
   "metadata": {},
   "outputs": [],
   "source": []
  }
 ],
 "metadata": {
  "kernelspec": {
   "display_name": "Python 3",
   "language": "python",
   "name": "python3"
  },
  "language_info": {
   "codemirror_mode": {
    "name": "ipython",
    "version": 3
   },
   "file_extension": ".py",
   "mimetype": "text/x-python",
   "name": "python",
   "nbconvert_exporter": "python",
   "pygments_lexer": "ipython3",
   "version": "3.7.6"
  },
  "latex_envs": {
   "LaTeX_envs_menu_present": true,
   "autoclose": false,
   "autocomplete": true,
   "bibliofile": "biblio.bib",
   "cite_by": "apalike",
   "current_citInitial": 1,
   "eqLabelWithNumbers": true,
   "eqNumInitial": 1,
   "hotkeys": {
    "equation": "Ctrl-E",
    "itemize": "Ctrl-I"
   },
   "labels_anchors": false,
   "latex_user_defs": false,
   "report_style_numbering": false,
   "user_envs_cfg": false
  },
  "toc": {
   "base_numbering": 1,
   "nav_menu": {},
   "number_sections": true,
   "sideBar": true,
   "skip_h1_title": false,
   "title_cell": "Table of Contents",
   "title_sidebar": "Contents",
   "toc_cell": false,
   "toc_position": {},
   "toc_section_display": true,
   "toc_window_display": false
  }
 },
 "nbformat": 4,
 "nbformat_minor": 4
}
